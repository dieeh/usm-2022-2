{
  "cells": [
    {
      "cell_type": "markdown",
      "metadata": {
        "id": "PWblY1IUlRRU"
      },
      "source": [
        "<hr style=\"height:2px;border:none\"/>\n",
        "<h1 align='center'> INF-280 Estadística Computacional II-2022 </h1>\n",
        "\n",
        "<H3 align='center'> Tema 3 - Variables Aleatorias Discretas  </H3>\n",
        "\n",
        "\\\n",
        "\n",
        "\n",
        "Nombre del equipo: \n",
        "\n",
        "Integrantes:\n",
        "\n",
        "\n",
        "*   Nombre Integrante 1 - ROL - [video](https://www.youtube.com/watch?v=2Z0MRg3GrC0&ab_channel=AnDr%C3%A9SXJ-9)\n",
        "*   Nombre Integrante 2 - ROL - [video](https://www.youtube.com/watch?v=2Z0MRg3GrC0&ab_channel=AnDr%C3%A9SXJ-9)\n",
        "*   Nombre Integrante 3 - ROL - [video](https://www.youtube.com/watch?v=2Z0MRg3GrC0&ab_channel=AnDr%C3%A9SXJ-9)\n",
        "\n",
        "\n",
        "*Recuerden que si su equipo se llama \"El ritmo no perdona\", entonces el nombre del archivo a subir debe ser T3_El_ritmo_no_perdona.ipynb*\n",
        "\n",
        "\n",
        "### **Formalidades**  \n",
        "* Es posible utilizar apuntes, libros, papers, ejemplos y cualquier otro material que desee de internet, pero debe ser usted quien desarrolle los ejercicios y comente los resultados en el Notebook que entregará. \n",
        "* Se permite el uso de las librerías: pandas, numpy, matplotlib y seaborn. Si desea utilizar otra librería debe indicar cómo instalarla.\n",
        "* Se debe trabajar en grupos de **dos o tres personas**, las cuales deberán estar inscritas a través de __[Aula](https://aula.usm.cl/)__.\n",
        "* Además del Notebook, deberán entregar un video explicando lo que hizo, paso a paso, como en los ejemplos entregados en AULA. Este vídeo es **individual**, es decir, cada integrante debe hacerlo por separado (debiendo utilizar el mismo Jupyter Notebook). El video puede ser subido a una plataforma externa como Youtube, Google Drive, ó Dropbox. El **link a compartir** (*visible para cualquier usuario con el link*) debe ir dentro del Notebook.\n",
        "* La nota de esta actividad es grupal.\n",
        "\n",
        "\n",
        "<hr style=\"height:2px;border:none\"/>\n",
        "\n",
        "### **Entrega** \n",
        "* **Formato**: Se debe realizar una **única** entrega por grupo (un representate del grupo) a través de  __[**Aula**](https://aula.usm.cl/)__.\n",
        "* **Archivo**: El nombre del archivo a subir debe ser **T3_Nombre_Del_Equipo.ipynb**, por ejemplo, si su equipo se llama \"El ritmo no perdona\", entonces el nombre del archivo debe ser **T3_El_ritmo_no_perdona.ipynb**\n",
        "* **Archivo**: Sus respuestas deben ser entregadas en forma de Jupyter Notebook, incluyendo **todos links** a los vídeos explicativos, uno por cada integrante.\n",
        "    * **Vídeo**: Debe grabar la pantalla (Jupyter Notebok) donde se realiza la explicación de la actividad, con una duración máxima de 25 minutos.\n",
        "* **Fecha límite**: Martes 4 de Octubre a las 23:59.\n",
        "\n",
        "<hr style=\"height:2px;border:none\"/>\n",
        "\n",
        "### **Descuentos**\n",
        "\n",
        "* Se descontarán 5 puntos si el nombre del archivo subido no sigue el formato señalado.\n",
        "* Se descontarán 10 puntos por cada hora de atraso en la entrega.\n",
        "* Todos los gráficos que realicen deben contener los nombres de las variables en los ejes. Se descontarán 3 puntos por cada nombre faltante.\n",
        "\n",
        "<hr style=\"height:2px;border:none\"/>"
      ]
    },
    {
      "cell_type": "markdown",
      "metadata": {
        "id": "tA7rjsenLJ_4"
      },
      "source": [
        "<table align='left'>\n",
        "<tr>\n",
        "<td><img src='https://miro.medium.com/max/1080/1*7uxvPFAUTDe483lCUxzRqQ.png' width='650'/> </td>\n",
        "</tr>\n",
        "</table>"
      ]
    },
    {
      "cell_type": "markdown",
      "metadata": {
        "id": "TJ4MCtOUK_dm"
      },
      "source": [
        "## Contexto \n",
        "\n",
        "Considere un sitio de comercio electrónico en que se presentan al usuario diferentes resultados de búsqueda. Cada resultado describe un producto o item que puede llamar la atención del cliente y terminar generando un \"click\" de su parte (para obtener información detallada y eventualmente comprarlo). La lista de resultados se ordena usando un algoritmo que predice la relevancia de un producto en base al texto introducido por el usuario, a la descripción del producto, y al historial de búsquedas y compras del cliente. \n",
        "\n"
      ]
    },
    {
      "cell_type": "markdown",
      "metadata": {
        "id": "gudzQGZUf8jm"
      },
      "source": [
        "## Definiciones\n",
        "\n",
        "Sea $C_r$ una v.a. de Bernoulli que toma el valor 1 cuando el usuario hace click en el resultado correspondiente a la posición r de la lista entregada por el algoritmo. Sea $A_r$ una v.a. de Bernoulli que toma el valor 1 cuando el resultado correspondiente a la posición r de la lista llama la atención del usuario, es decir, el resultado es relevante para el cliente por su forma o contenido. Sea $E_r$ una v.a. de Bernoulli que toma el valor 1 cuando el usuario lee/examina la descripción correspondiente a la posición r de la lista de resultados. Finalmente, sea $C$ el número total de clicks, es decir, si $N$ es el tamaño de la lista de resultados,\n",
        "\n",
        "\\begin{align}\n",
        "C=\\sum_{r=1}^N C_r\n",
        "\\end{align}\n"
      ]
    },
    {
      "cell_type": "markdown",
      "metadata": {
        "id": "BV29TCeYeafY"
      },
      "source": [
        "## Supuestos de Base\n",
        "\n",
        "Suponga en todo el taller que un usuario hace click en un resultado ($C_r=1$) sólo cuando $A_r=1$ y $E_r=1$. Asuma también que $A_r$ y $E_r$ son v.a. independientes y que el usuario siempre lee/examina el primer resultado, es decir $E_1=1$ con probabilidad 1.\n",
        "\n",
        "Suponga finalmente que el valor o beneficio por sesión $G$ que obtiene el sitio, considerando un modelo de negocios basado en la satisfacción del cliente y en el pago por clicks es una función de $C$ definida como\n",
        "\n",
        "\\begin{align}\n",
        "G= \\left\\{ \\begin{array}{rl}\n",
        "10\\sqrt{C}+5 & \\mbox{si C>0}\\\\\n",
        "0 & \\mbox{si C=0}\\\\\n",
        "\\end{array}\n",
        "  \\right.\n",
        "\\end{align}"
      ]
    },
    {
      "cell_type": "markdown",
      "metadata": {
        "id": "xtdSAU47f-3R"
      },
      "source": [
        "## Preguntas\n"
      ]
    },
    {
      "cell_type": "markdown",
      "metadata": {
        "id": "FeKFg11tLQHQ"
      },
      "source": [
        "1. Si $N=100$, sabemos que el algoritmo pone un resultado relevante en la lista con probabilidad $1/5$, y que un usuario lee/examina un resultado cualquiera de la lista con probabilidad $1/2$, determine la f.d.p. teórica de $C$ y sus primeros dos momentos. (10 pts)\n",
        "\n",
        "2. Compare sus resultados teóricos con resultados obtenidos via simulación. Para ello, programe el desarrollo de $M$ sesiones de búsqueda independientes, registrando en cada una el valor de $C$. Determine la influencia de $M$ en la conclusión obtenida, explicando lo que observa. (10 pts)\n",
        "\n",
        "3. ¿Es cierto que si $\\mathbb{E}(C)>0$, $\\mathbb{E}(G)=10\\sqrt{\\mathbb{E}(C)}+5$? Compruebe su afirmación aprovechando la simulación realizada en la pregunta anterior. Explique lo que observa. (10 pts)\n",
        "\n",
        "4. Si $N=\\infty$, el algoritmo pone un resultado relevante en la lista con probabilidad $1/5$, y un usuario lee/examina un resultado cualquiera de la lista con probabilidad $1/2$, determine la f.d.p. teórica del número de resultados que examinará un usuario antes de hacer el primer click. Compare sus resultados teóricos con resultados obtenidos via simulación. (15 pts)\n",
        "\n",
        "5. Si $N=\\infty$, el algoritmo pone un resultado relevante en la lista con probabilidad $1/100$, y un usuario lee/examina un resultado cualquiera de la lista con probabilidad $1/10$, estime la probabilidad de que $C$ sea menor que 1 y compare sus resultados teóricos con resultados obtenidos via simulación. (15 pts)\n",
        "\n",
        "6. Para tener un modelo más realista suponga que si $E_r=0$ para algún $r$, entonces $E_q=0$ para todo $q>r$, es decir, que apenas el usuario deja de leer/examinar un resultado abandona totalmente la búsqueda (no examina más resultados). Suponga también que si un usuario lee/examina el resultado $r$, pero no hace click en éste, la probabilidad de que lea/examine el siguiente resultado es $1/r$, mientras que si hizo click en el resultado $r$, la probabilidad de que lea/examine el siguiente resultado es $0.9$. Si $N=100$, sabemos que el algoritmo pone un resultado relevante en la lista con probabilidad $1/5$ independiente de la posición, determine los valores esperados de $C$ y $G$ vía simulación. (20 pts)\n",
        "\n",
        "7. Determine cómo cambian los valores esperados de $C$ y $G$ en la pregunta anterior cuando el algoritmo de recomendación pone un resultado relevante en la posición $r$ con probabilidad $1$ hasta las primeras $R$ posiciones y $R/r$ para cualquier otro $r$. Estudie lo qye sucede con $R$ a medida que aumenta entre $1$ y $20$. (20 pts)\n",
        "\n",
        "\n"
      ]
    }
  ],
  "metadata": {
    "colab": {
      "collapsed_sections": [],
      "provenance": [],
      "toc_visible": true
    },
    "kernelspec": {
      "display_name": "Python 3.10.2 64-bit",
      "language": "python",
      "name": "python3"
    },
    "language_info": {
      "name": "python",
      "version": "3.10.2"
    },
    "vscode": {
      "interpreter": {
        "hash": "26de051ba29f2982a8de78e945f0abaf191376122a1563185a90213a26c5da77"
      }
    }
  },
  "nbformat": 4,
  "nbformat_minor": 0
}

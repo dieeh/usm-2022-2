{
  "cells": [
    {
      "cell_type": "markdown",
      "metadata": {
        "id": "PWblY1IUlRRU"
      },
      "source": [
        "<hr style=\"height:2px;border:none\"/>\n",
        "<h1 align='center'> INF-280 Estadística Computacional II-2022 </h1>\n",
        "\n",
        "<H3 align='center'> Tema 3 - Variables Aleatorias Discretas  </H3>\n",
        "\n",
        "\\\n",
        "\n",
        "\n",
        "Nombre del equipo: \n",
        "\n",
        "Integrantes:\n",
        "\n",
        "\n",
        "*   Nombre Integrante 1 - ROL - [video](https://www.youtube.com/watch?v=2Z0MRg3GrC0&ab_channel=AnDr%C3%A9SXJ-9)\n",
        "*   Nombre Integrante 2 - ROL - [video](https://www.youtube.com/watch?v=2Z0MRg3GrC0&ab_channel=AnDr%C3%A9SXJ-9)\n",
        "*   Nombre Integrante 3 - ROL - [video](https://www.youtube.com/watch?v=2Z0MRg3GrC0&ab_channel=AnDr%C3%A9SXJ-9)\n",
        "\n",
        "\n",
        "*Recuerden que si su equipo se llama \"El ritmo no perdona\", entonces el nombre del archivo a subir debe ser T3_El_ritmo_no_perdona.ipynb*\n",
        "\n",
        "\n",
        "### **Formalidades**  \n",
        "* Es posible utilizar apuntes, libros, papers, ejemplos y cualquier otro material que desee de internet, pero debe ser usted quien desarrolle los ejercicios y comente los resultados en el Notebook que entregará. \n",
        "* Se permite el uso de las librerías: pandas, numpy, matplotlib y seaborn. Si desea utilizar otra librería debe indicar cómo instalarla.\n",
        "* Se debe trabajar en grupos de **dos o tres personas**, las cuales deberán estar inscritas a través de __[Aula](https://aula.usm.cl/)__.\n",
        "* Además del Notebook, deberán entregar un video explicando lo que hizo, paso a paso, como en los ejemplos entregados en AULA. Este vídeo es **individual**, es decir, cada integrante debe hacerlo por separado (debiendo utilizar el mismo Jupyter Notebook). El video puede ser subido a una plataforma externa como Youtube, Google Drive, ó Dropbox. El **link a compartir** (*visible para cualquier usuario con el link*) debe ir dentro del Notebook.\n",
        "* La nota de esta actividad es grupal.\n",
        "\n",
        "\n",
        "<hr style=\"height:2px;border:none\"/>\n",
        "\n",
        "### **Entrega** \n",
        "* **Formato**: Se debe realizar una **única** entrega por grupo (un representate del grupo) a través de  __[**Aula**](https://aula.usm.cl/)__.\n",
        "* **Archivo**: El nombre del archivo a subir debe ser **T3_Nombre_Del_Equipo.ipynb**, por ejemplo, si su equipo se llama \"El ritmo no perdona\", entonces el nombre del archivo debe ser **T3_El_ritmo_no_perdona.ipynb**\n",
        "* **Archivo**: Sus respuestas deben ser entregadas en forma de Jupyter Notebook, incluyendo **todos links** a los vídeos explicativos, uno por cada integrante.\n",
        "    * **Vídeo**: Debe grabar la pantalla (Jupyter Notebok) donde se realiza la explicación de la actividad, con una duración máxima de 25 minutos.\n",
        "* **Fecha límite**: Martes 4 de Octubre a las 23:59.\n",
        "\n",
        "<hr style=\"height:2px;border:none\"/>\n",
        "\n",
        "### **Descuentos**\n",
        "\n",
        "* Se descontarán 5 puntos si el nombre del archivo subido no sigue el formato señalado.\n",
        "* Se descontarán 10 puntos por cada hora de atraso en la entrega.\n",
        "* Todos los gráficos que realicen deben contener los nombres de las variables en los ejes. Se descontarán 3 puntos por cada nombre faltante.\n",
        "\n",
        "<hr style=\"height:2px;border:none\"/>"
      ]
    },
    {
      "cell_type": "markdown",
      "metadata": {
        "id": "tA7rjsenLJ_4"
      },
      "source": [
        "<table align='left'>\n",
        "<tr>\n",
        "<td><img src='https://miro.medium.com/max/1080/1*7uxvPFAUTDe483lCUxzRqQ.png' width='650'/> </td>\n",
        "</tr>\n",
        "</table>"
      ]
    },
    {
      "cell_type": "markdown",
      "metadata": {
        "id": "TJ4MCtOUK_dm"
      },
      "source": [
        "## Contexto \n",
        "\n",
        "Considere un sitio de comercio electrónico en que se presentan al usuario diferentes resultados de búsqueda. Cada resultado describe un producto o item que puede llamar la atención del cliente y terminar generando un \"click\" de su parte (para obtener información detallada y eventualmente comprarlo). La lista de resultados se ordena usando un algoritmo que predice la relevancia de un producto en base al texto introducido por el usuario, a la descripción del producto, y al historial de búsquedas y compras del cliente. \n",
        "\n"
      ]
    },
    {
      "cell_type": "markdown",
      "metadata": {
        "id": "gudzQGZUf8jm"
      },
      "source": [
        "## Definiciones\n",
        "\n",
        "Sea $C_r$ una v.a. de Bernoulli que toma el valor 1 cuando el usuario hace click en el resultado correspondiente a la posición r de la lista entregada por el algoritmo. Sea $A_r$ una v.a. de Bernoulli que toma el valor 1 cuando el resultado correspondiente a la posición r de la lista llama la atención del usuario, es decir, el resultado es relevante para el cliente por su forma o contenido. Sea $E_r$ una v.a. de Bernoulli que toma el valor 1 cuando el usuario lee/examina la descripción correspondiente a la posición r de la lista de resultados. Finalmente, sea $C$ el número total de clicks, es decir, si $N$ es el tamaño de la lista de resultados,\n",
        "\n",
        "\\begin{align}\n",
        "C=\\sum_{r=1}^N C_r\n",
        "\\end{align}\n"
      ]
    },
    {
      "cell_type": "markdown",
      "metadata": {
        "id": "BV29TCeYeafY"
      },
      "source": [
        "## Supuestos de Base\n",
        "\n",
        "Suponga en todo el taller que un usuario hace click en un resultado ($C_r=1$) sólo cuando $A_r=1$ y $E_r=1$. Asuma también que $A_r$ y $E_r$ son v.a. independientes y que el usuario siempre lee/examina el primer resultado, es decir $E_1=1$ con probabilidad 1.\n",
        "\n",
        "Suponga finalmente que el valor o beneficio por sesión $G$ que obtiene el sitio, considerando un modelo de negocios basado en la satisfacción del cliente y en el pago por clicks es una función de $C$ definida como\n",
        "\n",
        "\\begin{align}\n",
        "G= \\left\\{ \\begin{array}{rl}\n",
        "10\\sqrt{C}+5 & \\mbox{si C>0}\\\\\n",
        "0 & \\mbox{si C=0}\\\\\n",
        "\\end{array}\n",
        "  \\right.\n",
        "\\end{align}"
      ]
    },
    {
      "cell_type": "markdown",
      "metadata": {
        "id": "xtdSAU47f-3R"
      },
      "source": [
        "## Preguntas\n"
      ]
    },
    {
      "cell_type": "markdown",
      "metadata": {
        "id": "FeKFg11tLQHQ"
      },
      "source": [
        "1. Si $N=100$, sabemos que el algoritmo pone un resultado relevante en la lista con probabilidad $1/5$, y que un usuario lee/examina un resultado cualquiera de la lista con probabilidad $1/2$, determine la f.d.p. teórica de $C$ y sus primeros dos momentos. (10 pts)\n",
        "\n",
        "2. Compare sus resultados teóricos con resultados obtenidos via simulación. Para ello, programe el desarrollo de $M$ sesiones de búsqueda independientes, registrando en cada una el valor de $C$. Determine la influencia de $M$ en la conclusión obtenida, explicando lo que observa. (10 pts)\n",
        "\n",
        "3. ¿Es cierto que si $\\mathbb{E}(C)>0$, $\\mathbb{E}(G)=10\\sqrt{\\mathbb{E}(C)}+5$? Compruebe su afirmación aprovechando la simulación realizada en la pregunta anterior. Explique lo que observa. (10 pts)\n",
        "\n",
        "4. Si $N=\\infty$, el algoritmo pone un resultado relevante en la lista con probabilidad $1/5$, y un usuario lee/examina un resultado cualquiera de la lista con probabilidad $1/2$, determine la f.d.p. teórica del número de resultados que examinará un usuario antes de hacer el primer click. Compare sus resultados teóricos con resultados obtenidos via simulación. (15 pts)\n",
        "\n",
        "5. Si $N=\\infty$, el algoritmo pone un resultado relevante en la lista con probabilidad $1/100$, y un usuario lee/examina un resultado cualquiera de la lista con probabilidad $1/10$, estime la probabilidad de que $C$ sea menor que 1 y compare sus resultados teóricos con resultados obtenidos via simulación. (15 pts)\n",
        "\n",
        "6. Para tener un modelo más realista suponga que si $E_r=0$ para algún $r$, entonces $E_q=0$ para todo $q>r$, es decir, que apenas el usuario deja de leer/examinar un resultado abandona totalmente la búsqueda (no examina más resultados). Suponga también que si un usuario lee/examina el resultado $r$, pero no hace click en éste, la probabilidad de que lea/examine el siguiente resultado es $1/r$, mientras que si hizo click en el resultado $r$, la probabilidad de que lea/examine el siguiente resultado es $0.9$. Si $N=100$, sabemos que el algoritmo pone un resultado relevante en la lista con probabilidad $1/5$ independiente de la posición, determine los valores esperados de $C$ y $G$ vía simulación. (20 pts)\n",
        "\n",
        "7. Determine cómo cambian los valores esperados de $C$ y $G$ en la pregunta anterior cuando el algoritmo de recomendación pone un resultado relevante en la posición $r$ con probabilidad $1$ hasta las primeras $R$ posiciones y $R/r$ para cualquier otro $r$. Estudie lo qye sucede con $R$ a medida que aumenta entre $1$ y $20$. (20 pts)\n",
        "\n",
        "\n"
      ]
    },
    {
      "cell_type": "markdown",
      "metadata": {
        "id": "uLANNbuEBiHN"
      },
      "source": [
        "#RESPUESTAS\n"
      ]
    },
    {
      "cell_type": "code",
      "execution_count": null,
      "metadata": {
        "id": "bY9f8rClxf9B"
      },
      "outputs": [],
      "source": [
        "import pandas as pd\n",
        "import numpy as np\n",
        "import matplotlib.pyplot as plt\n",
        "import seaborn as sn\n",
        "import random\n",
        "from scipy.stats import binom\n",
        "import math\n",
        "from scipy.special import comb \n"
      ]
    },
    {
      "cell_type": "markdown",
      "metadata": {
        "id": "OYXRzNYWfO8k"
      },
      "source": [
        "## Pregunta 1"
      ]
    },
    {
      "cell_type": "markdown",
      "metadata": {
        "id": "-VDQmQC3B1I6"
      },
      "source": [
        "###1. Si $N=100$, sabemos que el algoritmo pone un resultado relevante en la lista con probabilidad $1/5$, y que un usuario lee/examina un resultado cualquiera de la lista con probabilidad $1/2$, determine la f.d.p. teórica de $C$ y sus primeros dos momentos. (10 pts)"
      ]
    },
    {
      "cell_type": "markdown",
      "metadata": {
        "id": "pTMDWAU09ytP"
      },
      "source": [
        "primero definimos nuestro caso de éxito x: el usuario realiza un click.\n",
        "\n",
        "se define una f.d.p para $C_r(x)$ sea $r>1$:\n",
        "\n",
        "\\begin{align}\n",
        "C_r(x)= \\left\\{ \\begin{array}{rl}\n",
        "1 & \\mbox{con probabilidad P($A_r$=1)*P($E_r$=1)}\\\\\n",
        "0 & \\mbox{si C=0 con probabilidad P($A_r$=0)*P($E_r$=0) + P($A_r$0)*P($E_r$=1)+ P($A_r$=1)*P($E_r$=0)}\\\\\n",
        "\\end{array}\n",
        "  \\right.\n",
        "\\end{align}\n",
        "\n",
        "tambien se puede escribir como:\n",
        "\n",
        "\\begin{align}\n",
        "C_r(x)= \\left\\{ \\begin{array}{rl}\n",
        "1 & \\mbox{con probabilidad }p\\\\\n",
        "0 & \\mbox{ con probabilidad 1}-p\\\\\n",
        "\\end{array}\n",
        "  \\right.\n",
        "\\end{align}\n",
        "\n",
        "sea p = P($A_r$=1)*P($E_r$=1)\n",
        "\n",
        "Como $E_1 = 1$ la f.d.p de $C_1(x) --> A_1$ (porque solo depende de $A$)"
      ]
    },
    {
      "cell_type": "markdown",
      "metadata": {
        "id": "TIGksKwsqbYx"
      },
      "source": [
        "-------------- definición de fpd general-----------------\n",
        "\n",
        "se define $A_1(x)$ sea x una v.a de Bernoulli de modo que:\n",
        "\n",
        "\\begin{align}\n",
        "A_1(x)= \\left\\{ \\begin{array}{rl}\n",
        "1 & \\mbox{con probabilidad } 1/5\\\\\n",
        "0 & \\mbox{con probabilidad }4/5\\\\\n",
        "\\end{array}\n",
        "  \\right.\n",
        "\\end{align}\n",
        "\n",
        "ahora,  se define $C(x)$ correspondiente a la cantidad total de clicks del siguiente modo:\n",
        "\n",
        "\\begin{align}\n",
        "C(x)=A_1(x) + \\sum_{r=2}^N C_r(x)\n",
        "\\end{align}\n",
        "\n",
        "\n",
        "El Valor anterior representa la función de la cantidad total de clicks.\n",
        "\n",
        "\n",
        "debido a que $C_r$ es una v.a de Bernoulli, como $A_r$ y $E_r$ son independientes entre sí. esto nos ayudará para el calculo de la f.d.p de se ya que dicha sumatorio sigue una distribución binomial con parametros n,p.\n",
        "\n",
        "Ahora para la f.d.p correspondiente de C(x) hay que tener en cuenta los siguientes casos :\n",
        "\n",
        "  - Que el usuario no haga ningún click.\n",
        "  - Que el usuario haga click en el primero.\n",
        "  - Que el usuario NO haga click en el primero.\n",
        "  - Que el usuario haga click en todos los anuncios.\n",
        "\n",
        "Para el primer caso tendremos que A(x)=0 y $\\sum_{r=2}^N C_r(x)$ = 0. y regresando a las f.d.p planteadas con anterioridad tenemos que:\n",
        "- Probabilidad Que el usuario no haga ningún click. = $\\frac{4}{5}*Bin(x=0,n=99,p=\\frac{1}{10})$\n",
        "\n",
        "Para el segundo y tercer caso, podemos seguir dos caminos los cuales nos acotarán, este debe tener en cuenta que el usuario haga click en el primero, y que el asuario no haga click en el primer, de hacer click en el primero, nos quitará un futuro click posible en la sumatoria. Aplicando la lógica mencionada anteriormente se optiene que:\n",
        "- Probabilidad de que el usuario realice x cantidad de click = \n",
        " $\\frac{1}{5}*Bin(x-1,99,\\frac{1}{10}) + \\frac{4}{5}*Bin(x,99,\\frac{1}{10})$.\n",
        "\n",
        "Mientras que el último caso, es similar al primero, solo que esta vez toma en cuenta todos los valores:\n",
        "- Probabilidad de que el usuario haga clicks en todos los anuncios = $\\frac{1}{5}*Bin(99,99,\\frac{1}{10})$\n",
        "\n",
        "\n",
        "\n",
        "Finalmente la f.d.p que responde a esta pregunta corresponde a:\n",
        "\\begin{align}\n",
        "f(x)= \\left\\{ \\begin{array}{rl}\n",
        "\\frac{4}{5}*Bin(x=0,n=99,p=\\frac{1}{10}) & \\mbox{si  } x= 0\\\\\n",
        "\\frac{1}{5}*Bin(x-1,99,\\frac{1}{10}) + \\frac{4}{5}*Bin(x,99,\\frac{1}{10}) & \\mbox{si  }0<x<100\\\\\n",
        "\\frac{1}{5}*Bin(99,99,\\frac{1}{10}) & \\mbox{si  }x=100\\\\\n",
        "\\end{array}\n",
        "  \\right.\n",
        "\\end{align}\n",
        "\n",
        "\n",
        "\n",
        "\n",
        "\n",
        "\n",
        "\n"
      ]
    },
    {
      "cell_type": "markdown",
      "metadata": {
        "id": "b934oNioXmPm"
      },
      "source": [
        "Ahora para el valor esperado y la varianza se realia el cálculo \"manual\" de modo que:"
      ]
    },
    {
      "cell_type": "code",
      "execution_count": null,
      "metadata": {
        "colab": {
          "base_uri": "https://localhost:8080/"
        },
        "id": "hNzMasx4b-wr",
        "outputId": "96c3a988-687f-472d-fe67-85588309cc85"
      },
      "outputs": [
        {
          "name": "stdout",
          "output_type": "stream",
          "text": [
            "E(x): 10.100000000000003\n",
            "E(x): 10.0\n",
            "V(x): 9.069999999999993\n"
          ]
        }
      ],
      "source": [
        "r=0\n",
        "n=100\n",
        "E_list=list()\n",
        "#sets\n",
        "#begin 100-n bucle\n",
        "while r<=n:\n",
        "  if(r==0):\n",
        "    E=r*0.8*binom.pmf(0, 99, 0.1)\n",
        "  if(r==100):\n",
        "    r*(0.2*binom.pmf(99, 99, 0.1))\n",
        "  else:\n",
        "    E=r*(0.2*binom.pmf(r-1, 99,0.1)+0.8*binom.pmf(r,99, 0.1))\n",
        "  E_list.append(E)\n",
        "  #print(\"E: \",E)\n",
        "  r+=1\n",
        "  #end 100-n bucle  \n",
        "  #print(f\"User{count}: {E}\")\n",
        "S_1=sum(E_list)\n",
        "print(f\"E(x): {S_1}\")\n",
        "print(f\"E(x): {S_1//1}\")\n",
        "r=0\n",
        "n=100\n",
        "E_list=list()\n",
        "#sets\n",
        "#begin 100-n bucle\n",
        "while r<=n:\n",
        "  if(r==0):\n",
        "    E=r*r*0.8*binom.pmf(0, 99, 0.1)\n",
        "  if(r==100):\n",
        "    r*r*(0.2*binom.pmf(99, 99, 0.1))\n",
        "  else:\n",
        "    E=r*r*(0.2*binom.pmf(r-1, 99,0.1)+0.8*binom.pmf(r,99, 0.1))\n",
        "  E_list.append(E)\n",
        "  #print(\"E: \",E)\n",
        "  r+=1\n",
        "  #end 100-n bucle  \n",
        "  #print(f\"User{count}: {E}\")\n",
        "V=sum(E_list)\n",
        "\n",
        "print(f\"V(x): {V-S_1**2}\")"
      ]
    },
    {
      "cell_type": "markdown",
      "metadata": {
        "id": "_bF-CcimfTu3"
      },
      "source": [
        "## Pregunta 2"
      ]
    },
    {
      "cell_type": "markdown",
      "metadata": {
        "id": "RoEG1NcGFwMx"
      },
      "source": [
        "###2. Compare sus resultados teóricos con resultados obtenidos via simulación. Para ello, programe el desarrollo de $M$ sesiones de búsqueda independientes, registrando en cada una el valor de $C$. Determine la influencia de $M$ en la conclusión obtenida, explicando lo que observa. (10 pts)\n"
      ]
    },
    {
      "cell_type": "code",
      "execution_count": null,
      "metadata": {
        "colab": {
          "base_uri": "https://localhost:8080/",
          "height": 364
        },
        "id": "WQz1IQ01pANv",
        "outputId": "cf65404c-d893-44f2-cb9e-95ac5d4cef1f"
      },
      "outputs": [
        {
          "name": "stdout",
          "output_type": "stream",
          "text": [
            "E(C) = 10.0\n",
            "Var(C) = 9.11995104\n",
            "-------------------------------------------\n"
          ]
        },
        {
          "data": {
            "image/png": "[encoded data removed]",
            "text/plain": [
              "<Figure size 432x288 with 1 Axes>"
            ]
          },
          "metadata": {
            "needs_background": "light"
          },
          "output_type": "display_data"
        },
        {
          "name": "stdout",
          "output_type": "stream",
          "text": [
            "--------------------------------------------\n"
          ]
        }
      ],
      "source": [
        "#@title random generator\n",
        "\n",
        "\n",
        "n=100\n",
        "M=10000\n",
        "p=1/10\n",
        "pa=1/5\n",
        "\n",
        "\n",
        "\n",
        "sesions=list()\n",
        "count=0\n",
        "medialist=list()\n",
        "while count<M:\n",
        "  #sets\n",
        "  C=0\n",
        "  r=1\n",
        "  #case C_1\n",
        "  ramc = random.random()  \n",
        "  if ramc>=pa:\n",
        "    C=C+0\n",
        "  else:\n",
        "    C=C+1\n",
        "    r+=1\n",
        "  #begin 100-n bucle\n",
        "  while r<n:\n",
        "    ramc = random.random()\n",
        "    if ramc>=p:\n",
        "      C=C+0\n",
        "    else:\n",
        "      C=C+1\n",
        "    r+=1\n",
        "  #end 100-n bucle  \n",
        "  #print(f\"User{count}: {C}\")\n",
        "  sesions.append(C)\n",
        "  #end while\n",
        "  count+=1\n",
        "\n",
        "#E(C)\n",
        "E_c = np.mean(sesions)//1\n",
        "print(f\"E(C) = {E_c}\")\n",
        "#Var(C)\n",
        "V_c = np.var(sesions)\n",
        "print(f\"Var(C) = {V_c}\")\n",
        "\n",
        "print(\"-------------------------------------------\")\n",
        "arange = range(min(sesions), max(sesions) + 1) \n",
        "plt.hist(sesions, bins=arange, edgecolor='white')\n",
        "plt.ylabel(\"count\")\n",
        "plt.xlabel(\"E(C)\")\n",
        "plt.title(\"Frecuencia de E(C) de distintas sesiones\")\n",
        "plt.show()\n",
        "print(\"--------------------------------------------\")\n"
      ]
    },
    {
      "cell_type": "markdown",
      "metadata": {
        "id": "ubxtNM6CfYWO"
      },
      "source": [
        "## Pregunta 3"
      ]
    },
    {
      "cell_type": "markdown",
      "metadata": {
        "id": "-Ab5bBRIVGK9"
      },
      "source": [
        "¿Es cierto que si $\\mathbb{E}(C)>0$, $\\mathbb{E}(G)=10\\sqrt{\\mathbb{E}(C)}+5$? Compruebe su afirmación aprovechando la simulación realizada en la pregunta anterior. Explique lo que observa."
      ]
    },
    {
      "cell_type": "markdown",
      "metadata": {
        "id": "E_mBLj031qf7"
      },
      "source": [
        "Este cálculo parte de un error teoríco ya que el valor esperado es una función lineal, por ello  $\\sqrt{\\mathbb{E}(C)}\\neq \\mathbb{E}(\\sqrt{C})$ del mismo modo que $\\mathbb{E}(x^2) \\neq \\mathbb{E}(x)^2$"
      ]
    },
    {
      "cell_type": "code",
      "execution_count": null,
      "metadata": {
        "colab": {
          "base_uri": "https://localhost:8080/"
        },
        "id": "hrILuq7L2z1U",
        "outputId": "a52a6833-c858-484a-ac2a-9e67ab44df9c"
      },
      "outputs": [
        {
          "name": "stdout",
          "output_type": "stream",
          "text": [
            "Simulación : 36.40910396637679\n",
            "según el enunciado:36.78049716414141\n"
          ]
        }
      ],
      "source": [
        "#@title simualcion\n",
        "n=100\n",
        "M=150\n",
        "def G(x):\n",
        "  return 10*np.sqrt(x)+5\n",
        "\n",
        "\n",
        "sesions=list()\n",
        "count=0\n",
        "medialist=list()\n",
        "E=0\n",
        "\n",
        "while count<M:\n",
        "  r=0\n",
        "  E_list=list()\n",
        "  #sets\n",
        "  #begin 100-n bucle\n",
        "  while r<=n:\n",
        "    if(r==0):\n",
        "      E=G(r)*0.8*binom.pmf(0, 99, 0.1)\n",
        "    if(r==100):\n",
        "      E=G(r)*(0.2*binom.pmf(99, 99, 0.1))\n",
        "    else:\n",
        "      E=G(r)*(0.2*binom.pmf(r-1, 99, 0.1)+0.8*binom.pmf(r, 99, 0.1))\n",
        "      E_list.append(E) \n",
        "    #print(\"E: \",E)\n",
        "    r+=1\n",
        "  #end 100-n bucle  \n",
        "  #print(f\"User{count}: {E}\")\n",
        "  S=sum(E_list)\n",
        "  sesions.append(S)\n",
        "  #end while\n",
        "  count+=1\n",
        "\n",
        "print(f\"Simulación : {np.mean(sesions)}\")\n",
        "print(f\"según el enunciado:{10*np.sqrt(S_1)+5}\")"
      ]
    },
    {
      "cell_type": "markdown",
      "metadata": {
        "id": "MVhmH0w02ziD"
      },
      "source": []
    },
    {
      "cell_type": "markdown",
      "metadata": {
        "id": "-3yjmMlJhQ6n"
      },
      "source": []
    },
    {
      "cell_type": "markdown",
      "metadata": {
        "id": "qPQkvZD5f-uW"
      },
      "source": [
        "## Pregunta 4"
      ]
    },
    {
      "cell_type": "markdown",
      "metadata": {
        "id": "WWLiHb9Yf-1J"
      },
      "source": [
        "Si $N=\\infty$, el algoritmo pone un resultado relevante en la lista con probabilidad $1/5$, y un usuario lee/examina un resultado cualquiera de la lista con probabilidad $1/2$, determine la f.d.p. teórica del número de resultados que examinará un usuario antes de hacer el primer click. Compare sus resultados teóricos con resultados obtenidos via simulación."
      ]
    },
    {
      "cell_type": "markdown",
      "metadata": {
        "id": "CHxS-Ijwd7TC"
      },
      "source": [
        "\\begin{align}\n",
        "f(x)= \\left\\{ \\begin{array}{rl}\n",
        "&\\frac{1}{5}   \\mbox{     si  } x= 0\\\\\n",
        "&\\frac{4}{5}\\sum_{i=x+1}^\\infty \\binom{i-2}{x-1}(\\frac{2}{5})^{x-1}(\\frac{1}{2})^{i-x-1}\\frac{1}{10} \\mbox{     si  } x\\geq 1\n",
        "\\end{array}\n",
        "  \\right.\n",
        "\\end{align}"
      ]
    },
    {
      "cell_type": "code",
      "execution_count": null,
      "metadata": {
        "colab": {
          "base_uri": "https://localhost:8080/"
        },
        "id": "IiBbeq5hguE6",
        "outputId": "5d9a4cbd-30e3-4bfb-f0c4-f809113d36fb"
      },
      "outputs": [
        {
          "name": "stdout",
          "output_type": "stream",
          "text": [
            "E(x) = 3.9999999828888986\n"
          ]
        }
      ],
      "source": [
        "#@title calculo manual\n",
        "def fdps(x):\n",
        "  infinite=10000\n",
        "  i=x+1\n",
        "  fdp_list=list()\n",
        "  while i<infinite:\n",
        "    Value= comb(i-2,x-1)*(2/5)**(x-1)*(1/2)**(i-x-1)\n",
        "    fdp_list.append(Value)\n",
        "    i+=1\n",
        "  return sum(fdp_list)\n",
        "\n",
        "n=100\n",
        "x=0\n",
        "E_list=list()\n",
        "\n",
        "\n",
        "while  x<=n:\n",
        "  if x==0:\n",
        "    E=x*1/5\n",
        "  else:\n",
        "    E=x*(4/5)*fdps(x)*(1/10)\n",
        "  E_list.append(E)\n",
        "  x+=1\n",
        "\n",
        "print(f\"E(x) = {sum(E_list)}\")\n"
      ]
    },
    {
      "cell_type": "code",
      "execution_count": null,
      "metadata": {
        "colab": {
          "base_uri": "https://localhost:8080/"
        },
        "id": "K6A_AkQKA5hs",
        "outputId": "af42581a-d424-4ac7-a334-c6fe7e153669"
      },
      "outputs": [
        {
          "name": "stdout",
          "output_type": "stream",
          "text": [
            "4.9705\n"
          ]
        }
      ],
      "source": [
        "#@title simulación esperanza E\n",
        "M=1000\n",
        "N=100\n",
        "k=0\n",
        "ls=list()\n",
        "while k<1000\n",
        "  cantidadexaminados = list()\n",
        "  for i in range(N):\n",
        "    c = 0\n",
        "    examinados = 1\n",
        "    a = random.randint(1, 5)\n",
        "    if a == 1:\n",
        "      c += 1 \n",
        "    while c < 1:\n",
        "      a = random.randint(1, 5)\n",
        "      e = random.randint(1, 2)\n",
        "      if e == 1:\n",
        "        examinados += 1\n",
        "        if a == 1:\n",
        "          c += 1\n",
        "    cantidadexaminados.append(examinados) \n",
        "    E_exam = np.mean(cantidadexaminados)\n",
        "    ls.append(E_exam)\n",
        "    \n",
        "\n",
        " \n",
        "print(np.mean(ls))"
      ]
    },
    {
      "cell_type": "markdown",
      "metadata": {
        "id": "hPkATsc7fzmp"
      },
      "source": [
        "## Pregunta 5"
      ]
    },
    {
      "cell_type": "markdown",
      "metadata": {
        "id": "Jnc2wyeHf6QQ"
      },
      "source": [
        "5. Si $N=\\infty$, el algoritmo pone un resultado relevante en la lista con probabilidad $1/100$, y un usuario lee/examina un resultado cualquiera de la lista con probabilidad $1/10$, estime la probabilidad de que $C$ sea menor que 1 y compare sus resultados teóricos con resultados obtenidos via simulación. "
      ]
    },
    {
      "cell_type": "code",
      "execution_count": null,
      "metadata": {
        "id": "cgKOjD1hfygb"
      },
      "outputs": [],
      "source": [
        "#@title simulación clicks < 1\n",
        "\n",
        "M=100 #simulaciones\n",
        "N = 100000 #N items\n",
        "cantidadclicks = list()\n",
        "for i in range(M):\n",
        "  c = 0\n",
        "  n = 0\n",
        "  if n < 1: \n",
        "    a = random.randint(1, 100)\n",
        "    if a == 1:\n",
        "      c += 1 \n",
        "    n += 1\n",
        "  while n < N:\n",
        "    a = random.randint(1, 100)\n",
        "    e = random.randint(1, 10)\n",
        "    if e == 1 and a == 1:\n",
        "        c += 1\n",
        "    n += 1      \n",
        "  cantidadclicks.append(c) \n",
        "\n",
        "plt.hist(cantidadclicks)\n",
        "\n",
        "sinclick = 0\n",
        "for item in cantidadclicks:\n",
        "  if item == 0:\n",
        "    sinclick += 1\n",
        "\n",
        "print(sinclick/(len(cantidadclicks)))"
      ]
    },
    {
      "cell_type": "markdown",
      "metadata": {},
      "source": [
        "## Pregunta 6"
      ]
    },
    {
      "cell_type": "markdown",
      "metadata": {},
      "source": [
        "6. Para tener un modelo más realista suponga que si $E_r=0$ para algún $r$, entonces $E_q=0$ para todo $q>r$, es decir, que apenas el usuario deja de leer/examinar un resultado abandona totalmente la búsqueda (no examina más resultados). Suponga también que si un usuario lee/examina el resultado $r$, pero no hace click en éste, la probabilidad de que lea/examine el siguiente resultado es $1/r$, mientras que si hizo click en el resultado $r$, la probabilidad de que lea/examine el siguiente resultado es $0.9$. Si $N=100$, sabemos que el algoritmo pone un resultado relevante en la lista con probabilidad $1/5$ independiente de la posición, determine los valores esperados de $C$ y $G$ vía simulación. "
      ]
    },
    {
      "cell_type": "code",
      "execution_count": null,
      "metadata": {},
      "outputs": [],
      "source": []
    }
  ],
  "metadata": {
    "colab": {
      "collapsed_sections": [],
      "provenance": [],
      "toc_visible": true
    },
    "kernelspec": {
      "display_name": "Python 3",
      "name": "python3"
    },
    "language_info": {
      "name": "python"
    }
  },
  "nbformat": 4,
  "nbformat_minor": 0
}

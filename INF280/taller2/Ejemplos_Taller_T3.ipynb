{
  "cells": [
    {
      "cell_type": "markdown",
      "metadata": {
        "id": "z-wMOoQ3hFXT"
      },
      "source": [
        "# Ejemplos Taller Tema 3\n"
      ]
    },
    {
      "cell_type": "markdown",
      "metadata": {
        "id": "CTURaXR-fM25"
      },
      "source": [
        "## Ejemplo 1: 1 dado tradicional\n",
        "\n",
        "Considere un dado tradicional de 6 caras que se lanza 1 vez.\n",
        "\n",
        "1. Obtenga la f.d.p. teórica\n",
        "2. Compare sus resultados teóricos con resultados obtenidos via simulación."
      ]
    },
    {
      "cell_type": "markdown",
      "metadata": {
        "id": "xAMSs8pTlBeA"
      },
      "source": [
        "### 1) Teórica"
      ]
    },
    {
      "cell_type": "markdown",
      "metadata": {
        "id": "eMUiWAK2lFzc"
      },
      "source": [
        "Sea $x$ el número obtenido al lanzar el dado\n",
        "$$\n",
        "\\begin{equation}\n",
        "f(x)=\n",
        "\\begin{cases}\n",
        "1/6 & \\text{si $x=1$} \\\\\n",
        "1/6 & \\text{si $x=2$} \\\\\n",
        "1/6 & \\text{si $x=3$} \\\\\n",
        "1/6 & \\text{si $x=4$} \\\\\n",
        "1/6 & \\text{si $x=5$} \\\\\n",
        "1/6 & \\text{si $x=6$} \\\\\n",
        "\\end{cases}\n",
        "\\end{equation}\n",
        "$$"
      ]
    },
    {
      "cell_type": "markdown",
      "metadata": {
        "id": "VOB5UZMZmJHV"
      },
      "source": [
        "### 2) Mediante simulación."
      ]
    },
    {
      "cell_type": "code",
      "execution_count": null,
      "metadata": {
        "id": "uSqfJb4nYgT9"
      },
      "outputs": [],
      "source": [
        "import numpy as np\n",
        "import pandas as pd"
      ]
    },
    {
      "cell_type": "code",
      "execution_count": 105,
      "metadata": {
        "id": "suho7vuUp9sQ"
      },
      "outputs": [],
      "source": [
        "caras = [1,2,3,4,5,6]\n",
        "simulaciones = 10**6\n",
        "\n",
        "resultados_1 = {'x': [1,2,3,4,5,6], 'f(x) experimental': np.zeros(6),\n",
        "        'f(x) teórica':[1/6, 1/6, 1/6, 1/6, 1/6, 1/6]}\n",
        "\n",
        "for a in range(simulaciones):\n",
        "    elegido = np.random.choice(caras)\n",
        "    resultados_1['f(x) experimental'][elegido-1] += 1\n",
        "\n",
        "for a in range(0,6):\n",
        "    resultados_1['f(x) experimental'][a] /= simulaciones"
      ]
    },
    {
      "cell_type": "code",
      "execution_count": 106,
      "metadata": {
        "id": "KEVigKz5vCSc"
      },
      "outputs": [],
      "source": [
        "df_ej1 = pd.DataFrame(resultados_1)"
      ]
    },
    {
      "cell_type": "code",
      "execution_count": 107,
      "metadata": {
        "id": "dHk2CPgWUZ9Q"
      },
      "outputs": [],
      "source": [
        "def dif_porcentual(n):\n",
        "    new_col = []\n",
        "    for a in range(len(n['x'])):\n",
        "        dif = abs(np.round((n['f(x) experimental'][a] - n['f(x) teórica'][a])/n['f(x) teórica'][a] * 100,2))\n",
        "        new_col.append(str(dif)+\" %\")\n",
        "    #print(new_col)\n",
        "    n.insert(3, \"Diferencia porcentual\", new_col, allow_duplicates=False)\n",
        "    display(n)"
      ]
    },
    {
      "cell_type": "code",
      "execution_count": 108,
      "metadata": {
        "colab": {
          "base_uri": "https://localhost:8080/",
          "height": 237
        },
        "id": "CbeBcPirUa2J",
        "outputId": "552405c8-492b-4383-b691-a50624791ee3"
      },
      "outputs": [
        {
          "data": {
            "text/html": [
              "\n",
              "  <div id=\"df-600f6845-fe9e-4b2c-b880-97ea0a86a231\">\n",
              "    <div class=\"colab-df-container\">\n",
              "      <div>\n",
              "<style scoped>\n",
              "    .dataframe tbody tr th:only-of-type {\n",
              "        vertical-align: middle;\n",
              "    }\n",
              "\n",
              "    .dataframe tbody tr th {\n",
              "        vertical-align: top;\n",
              "    }\n",
              "\n",
              "    .dataframe thead th {\n",
              "        text-align: right;\n",
              "    }\n",
              "</style>\n",
              "<table border=\"1\" class=\"dataframe\">\n",
              "  <thead>\n",
              "    <tr style=\"text-align: right;\">\n",
              "      <th></th>\n",
              "      <th>x</th>\n",
              "      <th>f(x) experimental</th>\n",
              "      <th>f(x) teórica</th>\n",
              "      <th>Diferencia porcentual</th>\n",
              "    </tr>\n",
              "  </thead>\n",
              "  <tbody>\n",
              "    <tr>\n",
              "      <th>0</th>\n",
              "      <td>1</td>\n",
              "      <td>0.167625</td>\n",
              "      <td>0.166667</td>\n",
              "      <td>0.58 %</td>\n",
              "    </tr>\n",
              "    <tr>\n",
              "      <th>1</th>\n",
              "      <td>2</td>\n",
              "      <td>0.166670</td>\n",
              "      <td>0.166667</td>\n",
              "      <td>0.0 %</td>\n",
              "    </tr>\n",
              "    <tr>\n",
              "      <th>2</th>\n",
              "      <td>3</td>\n",
              "      <td>0.166995</td>\n",
              "      <td>0.166667</td>\n",
              "      <td>0.2 %</td>\n",
              "    </tr>\n",
              "    <tr>\n",
              "      <th>3</th>\n",
              "      <td>4</td>\n",
              "      <td>0.165476</td>\n",
              "      <td>0.166667</td>\n",
              "      <td>0.71 %</td>\n",
              "    </tr>\n",
              "    <tr>\n",
              "      <th>4</th>\n",
              "      <td>5</td>\n",
              "      <td>0.166947</td>\n",
              "      <td>0.166667</td>\n",
              "      <td>0.17 %</td>\n",
              "    </tr>\n",
              "    <tr>\n",
              "      <th>5</th>\n",
              "      <td>6</td>\n",
              "      <td>0.166287</td>\n",
              "      <td>0.166667</td>\n",
              "      <td>0.23 %</td>\n",
              "    </tr>\n",
              "  </tbody>\n",
              "</table>\n",
              "</div>\n",
              "      <button class=\"colab-df-convert\" onclick=\"convertToInteractive('df-600f6845-fe9e-4b2c-b880-97ea0a86a231')\"\n",
              "              title=\"Convert this dataframe to an interactive table.\"\n",
              "              style=\"display:none;\">\n",
              "        \n",
              "  <svg xmlns=\"http://www.w3.org/2000/svg\" height=\"24px\"viewBox=\"0 0 24 24\"\n",
              "       width=\"24px\">\n",
              "    <path d=\"M0 0h24v24H0V0z\" fill=\"none\"/>\n",
              "    <path d=\"M18.56 5.44l.94 2.06.94-2.06 2.06-.94-2.06-.94-.94-2.06-.94 2.06-2.06.94zm-11 1L8.5 8.5l.94-2.06 2.06-.94-2.06-.94L8.5 2.5l-.94 2.06-2.06.94zm10 10l.94 2.06.94-2.06 2.06-.94-2.06-.94-.94-2.06-.94 2.06-2.06.94z\"/><path d=\"M17.41 7.96l-1.37-1.37c-.4-.4-.92-.59-1.43-.59-.52 0-1.04.2-1.43.59L10.3 9.45l-7.72 7.72c-.78.78-.78 2.05 0 2.83L4 21.41c.39.39.9.59 1.41.59.51 0 1.02-.2 1.41-.59l7.78-7.78 2.81-2.81c.8-.78.8-2.07 0-2.86zM5.41 20L4 18.59l7.72-7.72 1.47 1.35L5.41 20z\"/>\n",
              "  </svg>\n",
              "      </button>\n",
              "      \n",
              "  <style>\n",
              "    .colab-df-container {\n",
              "      display:flex;\n",
              "      flex-wrap:wrap;\n",
              "      gap: 12px;\n",
              "    }\n",
              "\n",
              "    .colab-df-convert {\n",
              "      background-color: #E8F0FE;\n",
              "      border: none;\n",
              "      border-radius: 50%;\n",
              "      cursor: pointer;\n",
              "      display: none;\n",
              "      fill: #1967D2;\n",
              "      height: 32px;\n",
              "      padding: 0 0 0 0;\n",
              "      width: 32px;\n",
              "    }\n",
              "\n",
              "    .colab-df-convert:hover {\n",
              "      background-color: #E2EBFA;\n",
              "      box-shadow: 0px 1px 2px rgba(60, 64, 67, 0.3), 0px 1px 3px 1px rgba(60, 64, 67, 0.15);\n",
              "      fill: #174EA6;\n",
              "    }\n",
              "\n",
              "    [theme=dark] .colab-df-convert {\n",
              "      background-color: #3B4455;\n",
              "      fill: #D2E3FC;\n",
              "    }\n",
              "\n",
              "    [theme=dark] .colab-df-convert:hover {\n",
              "      background-color: #434B5C;\n",
              "      box-shadow: 0px 1px 3px 1px rgba(0, 0, 0, 0.15);\n",
              "      filter: drop-shadow(0px 1px 2px rgba(0, 0, 0, 0.3));\n",
              "      fill: #FFFFFF;\n",
              "    }\n",
              "  </style>\n",
              "\n",
              "      <script>\n",
              "        const buttonEl =\n",
              "          document.querySelector('#df-600f6845-fe9e-4b2c-b880-97ea0a86a231 button.colab-df-convert');\n",
              "        buttonEl.style.display =\n",
              "          google.colab.kernel.accessAllowed ? 'block' : 'none';\n",
              "\n",
              "        async function convertToInteractive(key) {\n",
              "          const element = document.querySelector('#df-600f6845-fe9e-4b2c-b880-97ea0a86a231');\n",
              "          const dataTable =\n",
              "            await google.colab.kernel.invokeFunction('convertToInteractive',\n",
              "                                                     [key], {});\n",
              "          if (!dataTable) return;\n",
              "\n",
              "          const docLinkHtml = 'Like what you see? Visit the ' +\n",
              "            '<a target=\"_blank\" href=https://colab.research.google.com/notebooks/data_table.ipynb>data table notebook</a>'\n",
              "            + ' to learn more about interactive tables.';\n",
              "          element.innerHTML = '';\n",
              "          dataTable['output_type'] = 'display_data';\n",
              "          await google.colab.output.renderOutput(dataTable, element);\n",
              "          const docLink = document.createElement('div');\n",
              "          docLink.innerHTML = docLinkHtml;\n",
              "          element.appendChild(docLink);\n",
              "        }\n",
              "      </script>\n",
              "    </div>\n",
              "  </div>\n",
              "  "
            ],
            "text/plain": [
              "   x  f(x) experimental  f(x) teórica Diferencia porcentual\n",
              "0  1           0.167625      0.166667                0.58 %\n",
              "1  2           0.166670      0.166667                 0.0 %\n",
              "2  3           0.166995      0.166667                 0.2 %\n",
              "3  4           0.165476      0.166667                0.71 %\n",
              "4  5           0.166947      0.166667                0.17 %\n",
              "5  6           0.166287      0.166667                0.23 %"
            ]
          },
          "metadata": {},
          "output_type": "display_data"
        }
      ],
      "source": [
        "dif_porcentual(df_ej1)"
      ]
    },
    {
      "cell_type": "markdown",
      "metadata": {
        "id": "HCKlVAZV2RbL"
      },
      "source": [
        "## Ejemplo 2: 1 dado tradicional y 1 dado cargado.\n",
        "\n",
        "Considere dos dados, el primero es un dado tradicional donde cada numero tiene la misma probabilidad de salir. Por otro lado, el segundo dado está \"cargado\", donde la probabilidad de obtener un 1 es de 40%, mientras que todos los demas numeros tienen una probabilidad de salir del 12%."
      ]
    },
    {
      "cell_type": "markdown",
      "metadata": {
        "id": "TOofRKH74dlB"
      },
      "source": [
        "### 1) Teórica\n",
        "Sea **$x$** la cantidad de 1's obtenidos al lanzar los 2 dados. Construya la f.d.p. para la cantidad de 1's obtenidos. *Considere que los lanzamientos de los dados son eventos independientes*"
      ]
    },
    {
      "cell_type": "markdown",
      "metadata": {
        "id": "k7AuxOFG6iJW"
      },
      "source": [
        "Como son dos 2 dados, se pueden obtener 0, 1 o 2 1's al lanzar ambos dados:\n",
        "\n",
        "1) Para obtener 0 veces el número 1, se necesita que:\n",
        "\n",
        "*   En el primer dado salga un número distinto de 1, lo cual ocurre con probabilidad $5/6$.\n",
        "*   En el segundo dado salga un número distinto a 1, lo cual ocurre con probabilidad $0.6$\n",
        "\n",
        "Por lo tanto, la probabilidad de obtener 0 1's es de $5/6 \\cdot 0.6 = 0.5$\n",
        "\n",
        "2) Para obtener 1 vez el número 1 pueden ocurrir 2 cosas:\n",
        "\n",
        "\n",
        "*   En el primer dado sale un 1 y en el segundo dado sale un numero distinto a 1. Esto ocurre con probabilidad $1/6 \\cdot 0.6 = 0.1$\n",
        "*   En el primer dado sale un numero distinto a 1 y en el segundo dado sale un 1. Esto ocurre con probabilidad $5/6 \\cdot 0.4 = 1/3$\n",
        "\n",
        "Por lo tanto, la probabilidad de obtener 1 vez el número 1 al lanzar los dos dados es de $0.1+1/3 = 13/30 \\approx 0.433$\n",
        "\n",
        "3) Para obtener 2 veces el número 1, se necesita que:\n",
        "\n",
        "*   En el primer dado salga un 1, lo cual ocurre con probabilidad $1/6$\n",
        "*   En el segunda dado salga un 1, lo cual ocurre con probabilidad $0.4$\n",
        "\n",
        "Por lo tanto, la probabilidad de obtener 2 veces un 1 es de $1/6 \\cdot 0.4 = 1/15 \\approx 0.067$\n",
        "\n",
        "\n"
      ]
    },
    {
      "cell_type": "markdown",
      "metadata": {
        "id": "6SkLmrze5-8p"
      },
      "source": [
        "$$\n",
        "\\begin{equation}\n",
        "f(x)=\n",
        "\\begin{cases}\n",
        "0.5 & \\text{si x=0} \\\\\n",
        "0.433 & \\text{si x=1} \\\\\n",
        "0.067 & \\text{si x=2}\n",
        "\\end{cases}\n",
        "\\end{equation}\n",
        "$$"
      ]
    },
    {
      "cell_type": "markdown",
      "metadata": {
        "id": "WM_hL97CAc0w"
      },
      "source": [
        "### 2) Simulacion"
      ]
    },
    {
      "cell_type": "code",
      "execution_count": 109,
      "metadata": {
        "colab": {
          "base_uri": "https://localhost:8080/",
          "height": 143
        },
        "id": "nMCeBo2K2SCX",
        "outputId": "dc164815-c21e-41e2-d53e-b812c8974614"
      },
      "outputs": [
        {
          "data": {
            "text/html": [
              "\n",
              "  <div id=\"df-65f50edc-b865-4e50-a072-1632e0a369c3\">\n",
              "    <div class=\"colab-df-container\">\n",
              "      <div>\n",
              "<style scoped>\n",
              "    .dataframe tbody tr th:only-of-type {\n",
              "        vertical-align: middle;\n",
              "    }\n",
              "\n",
              "    .dataframe tbody tr th {\n",
              "        vertical-align: top;\n",
              "    }\n",
              "\n",
              "    .dataframe thead th {\n",
              "        text-align: right;\n",
              "    }\n",
              "</style>\n",
              "<table border=\"1\" class=\"dataframe\">\n",
              "  <thead>\n",
              "    <tr style=\"text-align: right;\">\n",
              "      <th></th>\n",
              "      <th>x</th>\n",
              "      <th>f(x) experimental</th>\n",
              "      <th>f(x) teórica</th>\n",
              "      <th>Diferencia porcentual</th>\n",
              "    </tr>\n",
              "  </thead>\n",
              "  <tbody>\n",
              "    <tr>\n",
              "      <th>0</th>\n",
              "      <td>0</td>\n",
              "      <td>0.500156</td>\n",
              "      <td>0.500000</td>\n",
              "      <td>0.03 %</td>\n",
              "    </tr>\n",
              "    <tr>\n",
              "      <th>1</th>\n",
              "      <td>1</td>\n",
              "      <td>0.433205</td>\n",
              "      <td>0.433333</td>\n",
              "      <td>0.03 %</td>\n",
              "    </tr>\n",
              "    <tr>\n",
              "      <th>2</th>\n",
              "      <td>2</td>\n",
              "      <td>0.066639</td>\n",
              "      <td>0.066667</td>\n",
              "      <td>0.04 %</td>\n",
              "    </tr>\n",
              "  </tbody>\n",
              "</table>\n",
              "</div>\n",
              "      <button class=\"colab-df-convert\" onclick=\"convertToInteractive('df-65f50edc-b865-4e50-a072-1632e0a369c3')\"\n",
              "              title=\"Convert this dataframe to an interactive table.\"\n",
              "              style=\"display:none;\">\n",
              "        \n",
              "  <svg xmlns=\"http://www.w3.org/2000/svg\" height=\"24px\"viewBox=\"0 0 24 24\"\n",
              "       width=\"24px\">\n",
              "    <path d=\"M0 0h24v24H0V0z\" fill=\"none\"/>\n",
              "    <path d=\"M18.56 5.44l.94 2.06.94-2.06 2.06-.94-2.06-.94-.94-2.06-.94 2.06-2.06.94zm-11 1L8.5 8.5l.94-2.06 2.06-.94-2.06-.94L8.5 2.5l-.94 2.06-2.06.94zm10 10l.94 2.06.94-2.06 2.06-.94-2.06-.94-.94-2.06-.94 2.06-2.06.94z\"/><path d=\"M17.41 7.96l-1.37-1.37c-.4-.4-.92-.59-1.43-.59-.52 0-1.04.2-1.43.59L10.3 9.45l-7.72 7.72c-.78.78-.78 2.05 0 2.83L4 21.41c.39.39.9.59 1.41.59.51 0 1.02-.2 1.41-.59l7.78-7.78 2.81-2.81c.8-.78.8-2.07 0-2.86zM5.41 20L4 18.59l7.72-7.72 1.47 1.35L5.41 20z\"/>\n",
              "  </svg>\n",
              "      </button>\n",
              "      \n",
              "  <style>\n",
              "    .colab-df-container {\n",
              "      display:flex;\n",
              "      flex-wrap:wrap;\n",
              "      gap: 12px;\n",
              "    }\n",
              "\n",
              "    .colab-df-convert {\n",
              "      background-color: #E8F0FE;\n",
              "      border: none;\n",
              "      border-radius: 50%;\n",
              "      cursor: pointer;\n",
              "      display: none;\n",
              "      fill: #1967D2;\n",
              "      height: 32px;\n",
              "      padding: 0 0 0 0;\n",
              "      width: 32px;\n",
              "    }\n",
              "\n",
              "    .colab-df-convert:hover {\n",
              "      background-color: #E2EBFA;\n",
              "      box-shadow: 0px 1px 2px rgba(60, 64, 67, 0.3), 0px 1px 3px 1px rgba(60, 64, 67, 0.15);\n",
              "      fill: #174EA6;\n",
              "    }\n",
              "\n",
              "    [theme=dark] .colab-df-convert {\n",
              "      background-color: #3B4455;\n",
              "      fill: #D2E3FC;\n",
              "    }\n",
              "\n",
              "    [theme=dark] .colab-df-convert:hover {\n",
              "      background-color: #434B5C;\n",
              "      box-shadow: 0px 1px 3px 1px rgba(0, 0, 0, 0.15);\n",
              "      filter: drop-shadow(0px 1px 2px rgba(0, 0, 0, 0.3));\n",
              "      fill: #FFFFFF;\n",
              "    }\n",
              "  </style>\n",
              "\n",
              "      <script>\n",
              "        const buttonEl =\n",
              "          document.querySelector('#df-65f50edc-b865-4e50-a072-1632e0a369c3 button.colab-df-convert');\n",
              "        buttonEl.style.display =\n",
              "          google.colab.kernel.accessAllowed ? 'block' : 'none';\n",
              "\n",
              "        async function convertToInteractive(key) {\n",
              "          const element = document.querySelector('#df-65f50edc-b865-4e50-a072-1632e0a369c3');\n",
              "          const dataTable =\n",
              "            await google.colab.kernel.invokeFunction('convertToInteractive',\n",
              "                                                     [key], {});\n",
              "          if (!dataTable) return;\n",
              "\n",
              "          const docLinkHtml = 'Like what you see? Visit the ' +\n",
              "            '<a target=\"_blank\" href=https://colab.research.google.com/notebooks/data_table.ipynb>data table notebook</a>'\n",
              "            + ' to learn more about interactive tables.';\n",
              "          element.innerHTML = '';\n",
              "          dataTable['output_type'] = 'display_data';\n",
              "          await google.colab.output.renderOutput(dataTable, element);\n",
              "          const docLink = document.createElement('div');\n",
              "          docLink.innerHTML = docLinkHtml;\n",
              "          element.appendChild(docLink);\n",
              "        }\n",
              "      </script>\n",
              "    </div>\n",
              "  </div>\n",
              "  "
            ],
            "text/plain": [
              "   x  f(x) experimental  f(x) teórica Diferencia porcentual\n",
              "0  0           0.500156      0.500000                0.03 %\n",
              "1  1           0.433205      0.433333                0.03 %\n",
              "2  2           0.066639      0.066667                0.04 %"
            ]
          },
          "metadata": {},
          "output_type": "display_data"
        }
      ],
      "source": [
        "dado_1 = [1,2,3,4,5,6]\n",
        "dado_2_prob_1 = 0.4\n",
        "\n",
        "resultados_ej2 = {'x': [0,1,2], 'f(x) experimental': np.zeros(3),\n",
        "        'f(x) teórica':[0.5, 13/30, 1/15]}\n",
        "\n",
        "simulaciones = 10**6\n",
        "\n",
        "for a in range(simulaciones):\n",
        "    unos = 0\n",
        "    elegido_1 = np.random.choice(caras)\n",
        "    if elegido_1 == 1: #Se analiza el resultado del primer dado\n",
        "        unos += 1\n",
        "    elegido_2 = np.random.uniform(0,1)\n",
        "    if elegido_2 < dado_2_prob_1: #Se analiza el resultado del segundo dado\n",
        "        unos += 1\n",
        "    resultados_ej2['f(x) experimental'][unos] += 1\n",
        "\n",
        "for a in range(0,3):\n",
        "    resultados_ej2['f(x) experimental'][a] /= simulaciones\n",
        "\n",
        "#Se crea el data frame con las probabilidades\n",
        "df_ej2 = pd.DataFrame(resultados_ej2)\n",
        "\n",
        "#Se calculan las diferencias porcentuales\n",
        "dif_porcentual(df_ej2)"
      ]
    },
    {
      "cell_type": "markdown",
      "metadata": {
        "id": "mHFcbF-MAYVC"
      },
      "source": [
        "## Ejemplo 3: 10 pares de dados\n",
        "\n",
        "Considere 10 pares de dados, donde:\n",
        "\n",
        "*   En el primer par de dados se tiene que:\n",
        "    * El primer dado es un dado tradicional donde todos los numeros tienen la misma probabilidad de ocurrir.\n",
        "    * El segundo dado está \"cargado\", en el cual siempre se obtiene un 1.\n",
        "*   En el resto de pares de dados se tiene que:\n",
        "    * El primer dado es un dado tradicional donde todos los numeros tienen la misma probabilidad de ocurrir.\n",
        "    * El segundo dado está cargado, donde la probabilidad de obtener un 1 es del 40%, mientras que el resto de números tiene un probabilidad de ocurrir del 12%\n",
        "\n",
        "Si se considera un juego en el cual se gana 1 punto cada vez que en un par de dados en ambos se obtiene un 1.\n",
        "\n",
        "Construya la f.d.p. de la cantidad de puntos obtenidos en el juego."
      ]
    },
    {
      "cell_type": "markdown",
      "metadata": {
        "id": "B7gCSM4CFrbD"
      },
      "source": [
        "### 1) Teórica\n",
        "\n"
      ]
    },
    {
      "cell_type": "markdown",
      "metadata": {
        "id": "BtdflYO0OfuE"
      },
      "source": [
        "Primero, se debe notar que la probabilidad de obtener dos 1's en el primer par de dados es de $1/6 \\cdot 1 = 1/6$, ya que el resultado solo depende de lo obtenido por el primer dado.\n",
        "\n",
        "Para los pares de dados 2 hasta el 10, se tiene que la probabilidad de obtener dos 1's es de $1/6 \\cdot 0.4 = 1/15$.\n"
      ]
    },
    {
      "cell_type": "markdown",
      "metadata": {
        "id": "Dw7Up_dTHnu8"
      },
      "source": [
        "#### **Construccion de la f.d.p.**\n"
      ]
    },
    {
      "cell_type": "markdown",
      "metadata": {
        "id": "T3TrEX1LHdVv"
      },
      "source": [
        "Para obtener **0 puntos** se debe cumplir que:\n",
        "\n",
        "*   En el primer par de dados **no se obtengan** dos 1's. Esto ocurre con probabilidad $5/6 \\cdot 1 = 5/6$\n",
        "*   **No se obtengan** un par de 1's en el resto de pares de dados. Como se tienen 9 pares de dados, en los cuales la probabilidad de obtener un \"exito\" es de $1/15$, esta probabilidad se puede epresar como una binomial de la forma:\n",
        "\n",
        "$$\\binom{9}{0}\\cdot \\left(\\frac{1}{15}\\right)^0 \\cdot \\left(1-\\frac{1}{15}\\right)^9 $$\n",
        "\n",
        "Por lo tanto, la probabilidad de obtener 0 puntos es de: \n",
        "\n",
        "$$f(0) = 5/6 \\cdot \\binom{9}{0}\\cdot \\left(\\frac{1}{15}\\right)^0 \\cdot \\left(1-\\frac{1}{15}\\right)^9 $$\n",
        "\n"
      ]
    },
    {
      "cell_type": "markdown",
      "metadata": {
        "id": "JREiBClYH98-"
      },
      "source": [
        "Para obtener **1 punto** existen dos opciones posibles:\n",
        "\n",
        "<ins> Opción 1:</ins> Obtener 1 punto con el primer par de dados y 0 puntos con el resto de pares de dados.\n",
        "    \n",
        "La probabilidad de obtener 1 punto con el primer par de dados es $1/6$, mientras que la probabilidad de obtener 0 puntos con el resto de pares de dados es de:\n",
        "\n",
        "$$\\binom{9}{0}\\cdot \\left(\\frac{1}{15}\\right)^0 \\cdot \\left(1-\\frac{1}{15}\\right)^9 $$\n",
        "\n",
        "Por lo tanto, la probabilidad de obtener 1 punto **con esta opción** es de:\n",
        "\n",
        "$$1/6 \\cdot \\binom{9}{0}\\cdot \\left(\\frac{1}{15}\\right)^0 \\cdot \\left(1-\\frac{1}{15}\\right)^9 $$\n",
        "\n",
        "<ins>Opción 2:</ins> Obtener 0 puntos con el primer par de dados y 1 punto con el resto de pares de dados.\n",
        "\n",
        "La probabilidad de obtener 0 puntos con el primer par de dados es $5/6$, mientras que la probabilidad de obtener 1 punto con el resto de pares de dados es de:\n",
        "\n",
        "$$\\binom{9}{1}\\cdot \\left(\\frac{1}{15}\\right)^1 \\cdot \\left(1-\\frac{1}{15}\\right)^{9-1} $$\n",
        "\n",
        "Por lo tanto, la probabilidad de obtener 1 punto **con esta opción** es de:\n",
        "\n",
        "$$5/6 \\cdot \\binom{9}{1}\\cdot \\left(\\frac{1}{15}\\right)^1 \\cdot \\left(1-\\frac{1}{15}\\right)^{9-1} $$\n",
        "\n",
        "Finalmente, la probabilidad de obtener 1 punto será la suma de las probabilidades de las opciones 1 y 2 señaladas anteriormente.\n",
        "\n",
        "$$f(1) = 1/6 \\cdot \\binom{9}{0}\\cdot \\left(\\frac{1}{15}\\right)^0 \\cdot \\left(1-\\frac{1}{15}\\right)^9 + 5/6 \\cdot \\binom{9}{1}\\cdot \\left(\\frac{1}{15}\\right)^1 \\cdot \\left(1-\\frac{1}{15}\\right)^{9-1}$$"
      ]
    },
    {
      "cell_type": "markdown",
      "metadata": {
        "id": "EpQm5V6FKnwQ"
      },
      "source": [
        "Para obtener **2 puntos** existen dos opciones posibles:\n",
        "\n",
        "<ins> Opción 1:</ins> Obtener 1 punto con el primer par de dados y 1 punto con el resto de pares de dados.\n",
        "    \n",
        "La probabilidad de obtener 1 punto con el primer par de dados es $1/6$, mientras que la probabilidad de obtener 1 punto con el resto de pares de dados es de:\n",
        "\n",
        "$$\\binom{9}{1}\\cdot \\left(\\frac{1}{15}\\right)^1 \\cdot \\left(1-\\frac{1}{15}\\right)^{9-1} $$\n",
        "\n",
        "Por lo tanto, la probabilidad de obtener 1 punto **con esta opción** es de:\n",
        "\n",
        "$$1/6 \\cdot \\binom{9}{1}\\cdot \\left(\\frac{1}{15}\\right)^1 \\cdot \\left(1-\\frac{1}{15}\\right)^{9-1} $$\n",
        "\n",
        "<ins>Opción 2:</ins> Obtener 0 puntos con el primer par de dados y 2 puntos con el resto de pares de dados.\n",
        "\n",
        "La probabilidad de obtener 0 puntos con el primer par de dados es $5/6$, mientras que la probabilidad de obtener 2 puntos con el resto de pares de dados es de:\n",
        "\n",
        "$$\\binom{9}{2}\\cdot \\left(\\frac{1}{15}\\right)^2 \\cdot \\left(1-\\frac{1}{15}\\right)^{9-2} $$\n",
        "\n",
        "Por lo tanto, la probabilidad de obtener 2 puntos **con esta opción** es de:\n",
        "\n",
        "$$5/6 \\cdot \\binom{9}{2}\\cdot \\left(\\frac{1}{15}\\right)^2 \\cdot \\left(1-\\frac{1}{15}\\right)^{9-2} $$\n",
        "\n",
        "Finalmente, la probabilidad de obtener 2 puntos será la suma de las probabilidades de las opciones 1 y 2 señaladas anteriormente.\n",
        "\n",
        "$$f(2) = 1/6 \\cdot \\binom{9}{1}\\cdot \\left(\\frac{1}{15}\\right)^1 \\cdot \\left(1-\\frac{1}{15}\\right)^{9-1} + 5/6 \\cdot \\binom{9}{2}\\cdot \\left(\\frac{1}{15}\\right)^2 \\cdot \\left(1-\\frac{1}{15}\\right)^{9-2}$$"
      ]
    },
    {
      "cell_type": "markdown",
      "metadata": {
        "id": "pH0b5myBL-qD"
      },
      "source": [
        "#### Generalización\n",
        "\n",
        "Como se puede observar, existen 2 maneras de obtener 1 punto, 2 puntos y así hasta los 9 puntos. Para el caso de los 10 puntos, se necesita que en cada par de dados se consiga 1 punto (**No hay otra opción posible**).\n",
        "\n",
        "De manera general, se puede plantear la f.d.p. para $x\\in [1,9]$ como:\n",
        "\n",
        "$$f(x) = 1/6 \\cdot \\binom{9}{x-1}\\cdot \\left(\\frac{1}{15}\\right)^{x-1} \\cdot \\left(1-\\frac{1}{15}\\right)^{9-x+1} + 5/6 \\cdot \\binom{9}{x}\\cdot \\left(\\frac{1}{15}\\right)^x \\cdot \\left(1-\\frac{1}{15}\\right)^{9-x}$$\n",
        "\n",
        "Donde:\n",
        "\n",
        "* La primera parte (hasta el +) corresponde a la probabilidad de obtener 1 punto con el primer par de dados y el resto de puntos con el resto de pares de dados (del 2 al 10)\n",
        "* La segunda parte corresponde a la probabilidad de obtener 0 puntos con el primer par de dados y obtener los $x$ puntos con el resto de pares de dados (del 2 al 10)"
      ]
    },
    {
      "cell_type": "markdown",
      "metadata": {
        "id": "2ArU03ZhN3bH"
      },
      "source": [
        "<ins> Caso 10 puntos</ins>:\n",
        "\n",
        "Solo existe 1 forma de obtener 10 puntos:\n",
        "\n",
        "*   Obtener 1 punto con el primer par de dados. Lo cual ocurre con probabilidad $1/6$\n",
        "*   Obtener 9 puntos con el resto de pares de dados (del 2 al 10). Lo cual ocurre con probabilidad:\n",
        "\n",
        "$$\\binom{9}{9}\\cdot \\left(\\frac{1}{15}\\right)^9 \\cdot \\left(1-\\frac{1}{15}\\right)^{9-9} $$\n",
        "\n",
        "Por lo tanto, la probabilidad de obtener 10 puntos es de:\n",
        "\n",
        "\n",
        "$$f(10) = 1/6 \\cdot \\binom{9}{9}\\cdot \\left(\\frac{1}{15}\\right)^9 \\cdot \\left(1-\\frac{1}{15}\\right)^{9-9} $$\n"
      ]
    },
    {
      "cell_type": "markdown",
      "metadata": {
        "id": "Jt-gPsqKOhcA"
      },
      "source": [
        "#### **Función de probabilidad**\n",
        "\n",
        "Finalmente, la f.d.p. obtenida es:\n",
        "\n",
        "$$\n",
        "\\begin{equation}\n",
        "f(x)=\n",
        "\\begin{cases}\n",
        "5/6 \\cdot \\binom{9}{0}\\cdot \\left(\\frac{1}{15}\\right)^0 \\cdot \\left(1-\\frac{1}{15}\\right)^9 & \\text{si $x = 0$} \\\\\n",
        "1/6 \\cdot \\binom{9}{x-1}\\cdot \\left(\\frac{1}{15}\\right)^{x-1} \\cdot \\left(1-\\frac{1}{15}\\right)^{9-x+1} + 5/6 \\cdot \\binom{9}{x}\\cdot \\left(\\frac{1}{15}\\right)^x \\cdot \\left(1-\\frac{1}{15}\\right)^{9-x} & \\text{si $1 \\leq x \\leq 9$} \\\\\n",
        "1/6 \\cdot \\binom{9}{9}\\cdot \\left(\\frac{1}{15}\\right)^9 \\cdot \\left(1-\\frac{1}{15}\\right)^{9-9} & \\text{si $x = 10$} \\\\\n",
        "\\end{cases}\n",
        "\\end{equation}\n",
        "$$"
      ]
    },
    {
      "cell_type": "markdown",
      "metadata": {
        "id": "nAG9DYDVHS6Q"
      },
      "source": [
        "### 2) Simulación"
      ]
    },
    {
      "cell_type": "code",
      "execution_count": 97,
      "metadata": {
        "id": "_iXGE5slQyCG"
      },
      "outputs": [],
      "source": [
        "from scipy.stats import binom\n",
        "fdp_teo = []\n",
        "\n",
        "for a in range(11):\n",
        "    if a == 0:\n",
        "        agregar = 5/6 * binom.pmf(k = a, n = 9, p = 1/15, loc = 0)\n",
        "        fdp_teo.append(agregar)\n",
        "    elif a < 10:\n",
        "        opcion_1 = 1/6 * binom.pmf(k = a - 1, n = 9, p = 1/15, loc = 0)\n",
        "        opcion_2 = 5/6 * binom.pmf(k = a, n = 9, p = 1/15, loc = 0)\n",
        "        fdp_teo.append(opcion_1+opcion_2)\n",
        "    else:\n",
        "        agregar = 1/6 * binom.pmf(k = 9, n = 9, p = 1/15, loc = 0)\n",
        "        fdp_teo.append(agregar)"
      ]
    },
    {
      "cell_type": "code",
      "execution_count": 110,
      "metadata": {
        "colab": {
          "base_uri": "https://localhost:8080/",
          "height": 394
        },
        "id": "8eCkg5ykHUat",
        "outputId": "f14980d0-9943-4296-f5f6-ab6486231984"
      },
      "outputs": [
        {
          "data": {
            "text/html": [
              "\n",
              "  <div id=\"df-5d0206fc-53dc-4ec2-9b31-65277bfbc6dc\">\n",
              "    <div class=\"colab-df-container\">\n",
              "      <div>\n",
              "<style scoped>\n",
              "    .dataframe tbody tr th:only-of-type {\n",
              "        vertical-align: middle;\n",
              "    }\n",
              "\n",
              "    .dataframe tbody tr th {\n",
              "        vertical-align: top;\n",
              "    }\n",
              "\n",
              "    .dataframe thead th {\n",
              "        text-align: right;\n",
              "    }\n",
              "</style>\n",
              "<table border=\"1\" class=\"dataframe\">\n",
              "  <thead>\n",
              "    <tr style=\"text-align: right;\">\n",
              "      <th></th>\n",
              "      <th>x</th>\n",
              "      <th>f(x) experimental</th>\n",
              "      <th>f(x) teórica</th>\n",
              "      <th>Diferencia porcentual</th>\n",
              "    </tr>\n",
              "  </thead>\n",
              "  <tbody>\n",
              "    <tr>\n",
              "      <th>0</th>\n",
              "      <td>0</td>\n",
              "      <td>0.448031</td>\n",
              "      <td>4.478677e-01</td>\n",
              "      <td>0.04 %</td>\n",
              "    </tr>\n",
              "    <tr>\n",
              "      <th>1</th>\n",
              "      <td>1</td>\n",
              "      <td>0.377375</td>\n",
              "      <td>3.774885e-01</td>\n",
              "      <td>0.03 %</td>\n",
              "    </tr>\n",
              "    <tr>\n",
              "      <th>2</th>\n",
              "      <td>2</td>\n",
              "      <td>0.139792</td>\n",
              "      <td>1.398444e-01</td>\n",
              "      <td>0.04 %</td>\n",
              "    </tr>\n",
              "    <tr>\n",
              "      <th>3</th>\n",
              "      <td>3</td>\n",
              "      <td>0.030221</td>\n",
              "      <td>3.016252e-02</td>\n",
              "      <td>0.19 %</td>\n",
              "    </tr>\n",
              "    <tr>\n",
              "      <th>4</th>\n",
              "      <td>4</td>\n",
              "      <td>0.004119</td>\n",
              "      <td>4.211001e-03</td>\n",
              "      <td>2.18 %</td>\n",
              "    </tr>\n",
              "    <tr>\n",
              "      <th>5</th>\n",
              "      <td>5</td>\n",
              "      <td>0.000429</td>\n",
              "      <td>3.987160e-04</td>\n",
              "      <td>7.6 %</td>\n",
              "    </tr>\n",
              "    <tr>\n",
              "      <th>6</th>\n",
              "      <td>6</td>\n",
              "      <td>0.000030</td>\n",
              "      <td>2.598150e-05</td>\n",
              "      <td>15.47 %</td>\n",
              "    </tr>\n",
              "    <tr>\n",
              "      <th>7</th>\n",
              "      <td>7</td>\n",
              "      <td>0.000003</td>\n",
              "      <td>1.152241e-06</td>\n",
              "      <td>160.36 %</td>\n",
              "    </tr>\n",
              "    <tr>\n",
              "      <th>8</th>\n",
              "      <td>8</td>\n",
              "      <td>0.000000</td>\n",
              "      <td>3.332175e-08</td>\n",
              "      <td>100.0 %</td>\n",
              "    </tr>\n",
              "    <tr>\n",
              "      <th>9</th>\n",
              "      <td>9</td>\n",
              "      <td>0.000000</td>\n",
              "      <td>5.679351e-10</td>\n",
              "      <td>100.0 %</td>\n",
              "    </tr>\n",
              "    <tr>\n",
              "      <th>10</th>\n",
              "      <td>10</td>\n",
              "      <td>0.000000</td>\n",
              "      <td>4.335382e-12</td>\n",
              "      <td>100.0 %</td>\n",
              "    </tr>\n",
              "  </tbody>\n",
              "</table>\n",
              "</div>\n",
              "      <button class=\"colab-df-convert\" onclick=\"convertToInteractive('df-5d0206fc-53dc-4ec2-9b31-65277bfbc6dc')\"\n",
              "              title=\"Convert this dataframe to an interactive table.\"\n",
              "              style=\"display:none;\">\n",
              "        \n",
              "  <svg xmlns=\"http://www.w3.org/2000/svg\" height=\"24px\"viewBox=\"0 0 24 24\"\n",
              "       width=\"24px\">\n",
              "    <path d=\"M0 0h24v24H0V0z\" fill=\"none\"/>\n",
              "    <path d=\"M18.56 5.44l.94 2.06.94-2.06 2.06-.94-2.06-.94-.94-2.06-.94 2.06-2.06.94zm-11 1L8.5 8.5l.94-2.06 2.06-.94-2.06-.94L8.5 2.5l-.94 2.06-2.06.94zm10 10l.94 2.06.94-2.06 2.06-.94-2.06-.94-.94-2.06-.94 2.06-2.06.94z\"/><path d=\"M17.41 7.96l-1.37-1.37c-.4-.4-.92-.59-1.43-.59-.52 0-1.04.2-1.43.59L10.3 9.45l-7.72 7.72c-.78.78-.78 2.05 0 2.83L4 21.41c.39.39.9.59 1.41.59.51 0 1.02-.2 1.41-.59l7.78-7.78 2.81-2.81c.8-.78.8-2.07 0-2.86zM5.41 20L4 18.59l7.72-7.72 1.47 1.35L5.41 20z\"/>\n",
              "  </svg>\n",
              "      </button>\n",
              "      \n",
              "  <style>\n",
              "    .colab-df-container {\n",
              "      display:flex;\n",
              "      flex-wrap:wrap;\n",
              "      gap: 12px;\n",
              "    }\n",
              "\n",
              "    .colab-df-convert {\n",
              "      background-color: #E8F0FE;\n",
              "      border: none;\n",
              "      border-radius: 50%;\n",
              "      cursor: pointer;\n",
              "      display: none;\n",
              "      fill: #1967D2;\n",
              "      height: 32px;\n",
              "      padding: 0 0 0 0;\n",
              "      width: 32px;\n",
              "    }\n",
              "\n",
              "    .colab-df-convert:hover {\n",
              "      background-color: #E2EBFA;\n",
              "      box-shadow: 0px 1px 2px rgba(60, 64, 67, 0.3), 0px 1px 3px 1px rgba(60, 64, 67, 0.15);\n",
              "      fill: #174EA6;\n",
              "    }\n",
              "\n",
              "    [theme=dark] .colab-df-convert {\n",
              "      background-color: #3B4455;\n",
              "      fill: #D2E3FC;\n",
              "    }\n",
              "\n",
              "    [theme=dark] .colab-df-convert:hover {\n",
              "      background-color: #434B5C;\n",
              "      box-shadow: 0px 1px 3px 1px rgba(0, 0, 0, 0.15);\n",
              "      filter: drop-shadow(0px 1px 2px rgba(0, 0, 0, 0.3));\n",
              "      fill: #FFFFFF;\n",
              "    }\n",
              "  </style>\n",
              "\n",
              "      <script>\n",
              "        const buttonEl =\n",
              "          document.querySelector('#df-5d0206fc-53dc-4ec2-9b31-65277bfbc6dc button.colab-df-convert');\n",
              "        buttonEl.style.display =\n",
              "          google.colab.kernel.accessAllowed ? 'block' : 'none';\n",
              "\n",
              "        async function convertToInteractive(key) {\n",
              "          const element = document.querySelector('#df-5d0206fc-53dc-4ec2-9b31-65277bfbc6dc');\n",
              "          const dataTable =\n",
              "            await google.colab.kernel.invokeFunction('convertToInteractive',\n",
              "                                                     [key], {});\n",
              "          if (!dataTable) return;\n",
              "\n",
              "          const docLinkHtml = 'Like what you see? Visit the ' +\n",
              "            '<a target=\"_blank\" href=https://colab.research.google.com/notebooks/data_table.ipynb>data table notebook</a>'\n",
              "            + ' to learn more about interactive tables.';\n",
              "          element.innerHTML = '';\n",
              "          dataTable['output_type'] = 'display_data';\n",
              "          await google.colab.output.renderOutput(dataTable, element);\n",
              "          const docLink = document.createElement('div');\n",
              "          docLink.innerHTML = docLinkHtml;\n",
              "          element.appendChild(docLink);\n",
              "        }\n",
              "      </script>\n",
              "    </div>\n",
              "  </div>\n",
              "  "
            ],
            "text/plain": [
              "     x  f(x) experimental  f(x) teórica Diferencia porcentual\n",
              "0    0           0.448031  4.478677e-01                0.04 %\n",
              "1    1           0.377375  3.774885e-01                0.03 %\n",
              "2    2           0.139792  1.398444e-01                0.04 %\n",
              "3    3           0.030221  3.016252e-02                0.19 %\n",
              "4    4           0.004119  4.211001e-03                2.18 %\n",
              "5    5           0.000429  3.987160e-04                 7.6 %\n",
              "6    6           0.000030  2.598150e-05               15.47 %\n",
              "7    7           0.000003  1.152241e-06              160.36 %\n",
              "8    8           0.000000  3.332175e-08               100.0 %\n",
              "9    9           0.000000  5.679351e-10               100.0 %\n",
              "10  10           0.000000  4.335382e-12               100.0 %"
            ]
          },
          "metadata": {},
          "output_type": "display_data"
        }
      ],
      "source": [
        "N = 10 #Numero de dados\n",
        "dado_1_prob_1= 1/6 #Probabilidad de obtener un 1 en el dado 1 de cada par\n",
        "dado_2_prob_1 = 0.4 #Probabilidad de obtener un 1 en el dado 2 de cada par\n",
        "\n",
        "resultados_ej3 = {'x': [0,1,2,3,4,5,6,7,8,9,10], 'f(x) experimental': np.zeros(11),\n",
        "        'f(x) teórica':fdp_teo}\n",
        "\n",
        "simulaciones = 10**6\n",
        "\n",
        "for a in range(simulaciones):\n",
        "    Puntos = 0 \n",
        "    \n",
        "    #Se analiza el primer dado del primer par de dados\n",
        "    elegido = np.random.uniform(0,1)\n",
        "    if elegido < dado_1_prob_1: #Se obtiene un 1\n",
        "        Puntos += 1\n",
        "    \n",
        "    #Se analizan los demas pares de dados\n",
        "    for b in range(N-1): \n",
        "        elegido = np.random.uniform(0,1)\n",
        "        if elegido < dado_1_prob_1: # Se obtiene un 1 en el primer dado\n",
        "            elegido2 = np.random.uniform(0,1)\n",
        "            if elegido2 < dado_2_prob_1: # Se obtiene un 1 en el segundo dado\n",
        "                Puntos += 1\n",
        "    resultados_ej3['f(x) experimental'][Puntos] += 1\n",
        "\n",
        "for a in range(0,11):\n",
        "    resultados_ej3['f(x) experimental'][a] /= simulaciones\n",
        "\n",
        "#f.d.p.\n",
        "df_ej3 = pd.DataFrame(resultados_ej3)\n",
        "\n",
        "#Dif procentual\n",
        "dif_porcentual(df_ej3)"
      ]
    }
  ],
  "metadata": {
    "colab": {
      "collapsed_sections": [],
      "provenance": [],
      "toc_visible": true
    },
    "kernelspec": {
      "display_name": "Python 3.10.2 64-bit",
      "language": "python",
      "name": "python3"
    },
    "language_info": {
      "name": "python",
      "version": "3.10.2"
    },
    "vscode": {
      "interpreter": {
        "hash": "26de051ba29f2982a8de78e945f0abaf191376122a1563185a90213a26c5da77"
      }
    }
  },
  "nbformat": 4,
  "nbformat_minor": 0
}

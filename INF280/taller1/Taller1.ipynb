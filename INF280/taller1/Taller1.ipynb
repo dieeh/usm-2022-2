{
  "nbformat": 4,
  "nbformat_minor": 0,
  "metadata": {
    "colab": {
      "name": "Taller1.ipynb",
      "provenance": []
    },
    "kernelspec": {
      "name": "python3",
      "display_name": "Python 3"
    },
    "language_info": {
      "name": "python"
    }
  },
  "cells": [
    {
      "cell_type": "markdown",
      "source": [
        "<hr style=\"height:2px;border:none\"/>\n",
        "<h1 align='center'> INF-280 Estadística Computacional II-2022 </h1>\n",
        "\n",
        "<H3 align='center'> Tema 1 - Análisis Exploratorio de Datos  </H3>\n",
        "\n",
        "\n",
        "## Objetivos de aprendizaje\n",
        "Al final de este taller el/la alumno/a sabrá:\n",
        "\n",
        "> * Distinguir las funciones de las principales librerías en Python para el manejo y análisis exploratorio de datos.\n",
        "> * Aplicar técnicas de visualización para generar gráficos que le permitan llegar a conclusiones descriptivas acerca de una muestra.\n",
        "> * Obtener estadísticas de tendencia y dispersión univariadas sobre las variables presentes en la muestra.\n",
        "> * Aplicar transformaciones sobre conjuntos de datos que le permitan, posteriormente, preparár los datos de la muestra para realizar un proceso de modelamiento.\n",
        "\n",
        "\n",
        "\n",
        "\n",
        "\n",
        "\n",
        "Integrantes:\n",
        "\n",
        "\n",
        "*   Nombre Integrante 1 - ROL - [video](https://www.youtube.com/watch?v=dQw4w9WgXcQ)\n",
        "*   Nombre Integrante 2 - ROL - [video](https://www.youtube.com/watch?v=dQw4w9WgXcQ)\n",
        "*   Nombre Integrante 3 - ROL - [video](https://www.youtube.com/watch?v=dQw4w9WgXcQ)\n",
        "\n",
        "\n",
        "\n",
        "\n",
        "\n",
        "### **Formalidades**  \n",
        "* Es posible utilizar apuntes, libros, papers, ejemplos y cualquier otro material que desee de internet, pero debe ser usted quien desarrolle los ejercicios y comente los resultados en el Notebook que entregará. \n",
        "* Se permite el uso de las librerías: pandas, numpy, matplotlib y seaborn. Si desea utilizar otra librería debe indicar cómo instalarla.\n",
        "* Se debe trabajar en grupos de **dos o tres personas**, las cuales deberán estar inscritas a través de __[Aula](https://aula.usm.cl/)__.\n",
        "* Además del Notebook, deberán entregar un video explicando lo que hizo, paso a paso, como en los ejemplos entregados en AULA. Este vídeo es **individual**, es decir, cada integrante debe hacerlo por separado (debiendo utilizar el mismo Jupyter Notebook). El video puede ser subido a una plataforma externa como Youtube, Google Drive, ó Dropbox. El **link a compartir** (*visible para cualquier usuario con el link*) debe ir dentro del Notebook.\n",
        "* La nota de esta actividad es grupal.\n",
        "\n",
        "\n",
        "<hr style=\"height:2px;border:none\"/>\n",
        "\n",
        "### **Entrega** \n",
        "* **Formato**: Se debe realizar una **única** entrega por grupo (un representate del grupo) a través de  __[**Aula**](https://aula.usm.cl/)__.\n",
        "* **Archivo**: Sus respuestas deben ser entregadas en forma de Jupyter Notebook, incluyendo **todos links** a los vídeos explicativos, uno por cada integrante.\n",
        "    * **Vídeo**: Debe grabar la pantalla (Jupyter Notebok) donde se realiza la explicación de la actividad, con una duración de 10 a 15 minutos.\n",
        "* **Fecha límite**: Viernes 2 de Septiembre a las 23:59.\n",
        "\n",
        "<hr style=\"height:2px;border:none\"/>\n",
        "\n",
        "\n",
        "\n",
        "\n",
        "\n",
        "\n"
      ],
      "metadata": {
        "id": "4D19V_ND43Uh"
      }
    },
    {
      "cell_type": "markdown",
      "source": [
        "\n",
        "<hr style=\"height:2px;border:none\"/>\n",
        "\n",
        "\n",
        "<table align='left'>\n",
        "<tr>\n",
        "<td><img src='https://ik.imgkit.net/3vlqs5axxjf/PCWW/uploadedImages/Articles/News/2020/July/bike-share-coronavirus.jpeg?tr=w-600%2Ch-300%2Cfo-auto' width='900'/> </td>\n",
        "</tr>\n",
        "</table>"
      ],
      "metadata": {
        "id": "SRpEAFNr46Dy"
      }
    },
    {
      "cell_type": "markdown",
      "source": [
        "\n",
        "\n",
        "## Enunciado\n",
        "\n",
        "Los sistemas de bicicletas compartidas son una forma de alquilar bicicletas en las que el proceso de obtención de membresía, alquiler y devolución de bicicletas se automatiza a través de una red de quioscos en toda la ciudad. Con estos sistemas, las personas pueden alquilar una bicicleta en un lugar y devolverla en un lugar diferente según sea necesario. Actualmente, hay más de 500 programas de bicicletas compartidas en todo el mundo. Los datos generados por estos sistemas los hacen atractivos para los investigadores porque la duración del viaje, el lugar de salida, el lugar de llegada y el tiempo transcurrido se registran explícitamente. Por lo tanto, los sistemas de bicicletas compartidas funcionan como una red de sensores que se puede utilizar para estudiar la movilidad en una ciudad. En esta taller, se les muestra a kis participantes el alquiler de bicicletas en el programa Capital Bikeshare en Washington, D.C.\n",
        "\n",
        "En este taller se utilizará el dataset `Bike Sharing Demand`, disponible libremente en\n",
        "[Kaggle](https://https://www.kaggle.com/competitions/bike-sharing-demand/overview).\n",
        "\n",
        "En la carpeta se encuentra un archivo llamado `Bike.csv` donde está el dataset a trabajar.\n",
        "\n",
        "Con respecto a las variables contenidas tenemos:\n",
        "* `datetime` - Fecha  + hora. \n",
        "* `season` -  1 = primavera, 2 = verano, 3 = otoño, 4 = invierno.\n",
        "* `holiday` - Si el día es considerado feriado.\n",
        "* `workingday` - Si el día no es feriado ni fin de semana.\n",
        "* `weather` - 1: Despejado, Pocas nubes, Parcialmente nublado, Parcialmente nublado\n",
        "2: Niebla + Nublado, Niebla + Nubes rotas, Niebla + Pocas nubes, Niebla\n",
        "3: Nieve ligera, Lluvia ligera + Tormenta eléctrica + Nubes dispersas, Lluvia ligera + Nubes dispersas\n",
        "4: luvia intensa + Paletas de hielo + Tormenta eléctrica + Niebla, nieve + Niebla.\n",
        "* `temp` - Temperatura en Celsius.\n",
        "* `atemp` - Temperatura \"se siente como\" en grados Celsius\n",
        "* `humidity` - Humedad relativa\n",
        "* `windspeed` - Velocidad del viento\n",
        "* `casual` - Número de alquileres de usuarios no registrados iniciados\n",
        "* `registered` - Número de alquileres de usuarios registrados iniciados.\n",
        "* `count` - Número de alquileres totales.\n"
      ],
      "metadata": {
        "id": "uzd4yR7K4116"
      }
    },
    {
      "cell_type": "markdown",
      "source": [
        "## Problema de estudio: \n",
        "Se desea hacer un estudio del uso de estos alquileres, el comportamiento general que tienen las personas para arrendar una bicicleta, bajo alguna temporada o algún clima especial, para eso contratan a tu equipo, que como tarea debe responder lo siguiente.\n",
        "\n",
        "\n",
        "\n",
        "\n",
        "## Requerimientos del cliente:\n",
        "\n",
        "1.   Compare la cantidad de alquileres según 'workingday'. ¿Se puede afirmar que la gente prefiere alquilar una bicleta los fines de semana? (10 pts)\n",
        "\n",
        "2.   Compare la cantidad de alquileres totales según la estación ('season') para los años 2011 y 2012, ¿Existe algún cambio significativo entre estos años? (10 pts)\n",
        "\n",
        "3.   Para cada una de las estaciones del año, realice un boxplot de la temperatura cuando se realizó el alquiler. Compare los boxplots y concluya. (10 pts)\n",
        "\n",
        "4.   Construya un gráfico de barras de la cantidad de alquileres según el clima ('weather'), ¿Qué se puede concluir? (10 pts)\n",
        "\n",
        "5.   Para la estación de invierno, realice un gráfico de barras sobre el clima. ¿Qué se puede concluir? (10 pts)\n",
        "\n",
        "6.   Para las estaciones de invierno y verano, realice un histograma sobre la temperatura aparente al momento de realizar el alquiler. ¿Se puede afirmar que en invierno la gente tiende a alquilar una bicicleta cuando la temperatura aparente es mayor(horas de más calor en invierno)?.¿Se puede afirmar que en verano la gente tiende a alquilar una bicicleta cuando la temperatura aparente es menor(hora de menor temperatura)? (20 pts)\n",
        "\n",
        "7.   Para cada una de las estaciones del año, construya un histograma de la hora en que se realizan los alquileres. ¿Existe alguna diferencia en la distribución de la hora de alquiler? ¿Qué se puede concluir?. Ejemplo: \"en invierno los alquileres se realizan(en promedio) a una hora más temprano que en verano\". (20 pts)\n",
        "\n",
        "8. Proponga y desarrolle un análisis libre que no haya sido cubierto  (10 pts)\n"
      ],
      "metadata": {
        "id": "es9Xie4w5Epb"
      }
    },
    {
      "cell_type": "code",
      "source": [],
      "metadata": {
        "id": "-Uz21ZqA5AD-"
      },
      "execution_count": 1,
      "outputs": []
    }
  ]
}